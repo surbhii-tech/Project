{
 "cells": [
  {
   "cell_type": "code",
   "execution_count": 3,
   "id": "bf70c011",
   "metadata": {},
   "outputs": [],
   "source": [
    "import pandas as pd\n",
    "import numpy as np\n",
    "import seaborn as sns \n",
    "import matplotlib.pyplot as plt\n",
    "import sklearn\n",
    "import warnings\n",
    "warnings.filterwarnings('ignore')"
   ]
  },
  {
   "cell_type": "code",
   "execution_count": 4,
   "id": "9b39ab68",
   "metadata": {},
   "outputs": [
    {
     "data": {
      "text/html": [
       "<div>\n",
       "<style scoped>\n",
       "    .dataframe tbody tr th:only-of-type {\n",
       "        vertical-align: middle;\n",
       "    }\n",
       "\n",
       "    .dataframe tbody tr th {\n",
       "        vertical-align: top;\n",
       "    }\n",
       "\n",
       "    .dataframe thead th {\n",
       "        text-align: right;\n",
       "    }\n",
       "</style>\n",
       "<table border=\"1\" class=\"dataframe\">\n",
       "  <thead>\n",
       "    <tr style=\"text-align: right;\">\n",
       "      <th></th>\n",
       "      <th>Id number</th>\n",
       "      <th>RI</th>\n",
       "      <th>Na</th>\n",
       "      <th>Mg</th>\n",
       "      <th>Al</th>\n",
       "      <th>Si</th>\n",
       "      <th>K</th>\n",
       "      <th>Ca</th>\n",
       "      <th>Ba</th>\n",
       "      <th>Fe</th>\n",
       "      <th>Type of glass</th>\n",
       "    </tr>\n",
       "  </thead>\n",
       "  <tbody>\n",
       "    <tr>\n",
       "      <th>0</th>\n",
       "      <td>1</td>\n",
       "      <td>1.52101</td>\n",
       "      <td>13.64</td>\n",
       "      <td>4.49</td>\n",
       "      <td>1.10</td>\n",
       "      <td>71.78</td>\n",
       "      <td>0.06</td>\n",
       "      <td>8.75</td>\n",
       "      <td>0.00</td>\n",
       "      <td>0.0</td>\n",
       "      <td>1</td>\n",
       "    </tr>\n",
       "    <tr>\n",
       "      <th>1</th>\n",
       "      <td>2</td>\n",
       "      <td>1.51761</td>\n",
       "      <td>13.89</td>\n",
       "      <td>3.60</td>\n",
       "      <td>1.36</td>\n",
       "      <td>72.73</td>\n",
       "      <td>0.48</td>\n",
       "      <td>7.83</td>\n",
       "      <td>0.00</td>\n",
       "      <td>0.0</td>\n",
       "      <td>1</td>\n",
       "    </tr>\n",
       "    <tr>\n",
       "      <th>2</th>\n",
       "      <td>3</td>\n",
       "      <td>1.51618</td>\n",
       "      <td>13.53</td>\n",
       "      <td>3.55</td>\n",
       "      <td>1.54</td>\n",
       "      <td>72.99</td>\n",
       "      <td>0.39</td>\n",
       "      <td>7.78</td>\n",
       "      <td>0.00</td>\n",
       "      <td>0.0</td>\n",
       "      <td>1</td>\n",
       "    </tr>\n",
       "    <tr>\n",
       "      <th>3</th>\n",
       "      <td>4</td>\n",
       "      <td>1.51766</td>\n",
       "      <td>13.21</td>\n",
       "      <td>3.69</td>\n",
       "      <td>1.29</td>\n",
       "      <td>72.61</td>\n",
       "      <td>0.57</td>\n",
       "      <td>8.22</td>\n",
       "      <td>0.00</td>\n",
       "      <td>0.0</td>\n",
       "      <td>1</td>\n",
       "    </tr>\n",
       "    <tr>\n",
       "      <th>4</th>\n",
       "      <td>5</td>\n",
       "      <td>1.51742</td>\n",
       "      <td>13.27</td>\n",
       "      <td>3.62</td>\n",
       "      <td>1.24</td>\n",
       "      <td>73.08</td>\n",
       "      <td>0.55</td>\n",
       "      <td>8.07</td>\n",
       "      <td>0.00</td>\n",
       "      <td>0.0</td>\n",
       "      <td>1</td>\n",
       "    </tr>\n",
       "    <tr>\n",
       "      <th>...</th>\n",
       "      <td>...</td>\n",
       "      <td>...</td>\n",
       "      <td>...</td>\n",
       "      <td>...</td>\n",
       "      <td>...</td>\n",
       "      <td>...</td>\n",
       "      <td>...</td>\n",
       "      <td>...</td>\n",
       "      <td>...</td>\n",
       "      <td>...</td>\n",
       "      <td>...</td>\n",
       "    </tr>\n",
       "    <tr>\n",
       "      <th>209</th>\n",
       "      <td>210</td>\n",
       "      <td>1.51623</td>\n",
       "      <td>14.14</td>\n",
       "      <td>0.00</td>\n",
       "      <td>2.88</td>\n",
       "      <td>72.61</td>\n",
       "      <td>0.08</td>\n",
       "      <td>9.18</td>\n",
       "      <td>1.06</td>\n",
       "      <td>0.0</td>\n",
       "      <td>7</td>\n",
       "    </tr>\n",
       "    <tr>\n",
       "      <th>210</th>\n",
       "      <td>211</td>\n",
       "      <td>1.51685</td>\n",
       "      <td>14.92</td>\n",
       "      <td>0.00</td>\n",
       "      <td>1.99</td>\n",
       "      <td>73.06</td>\n",
       "      <td>0.00</td>\n",
       "      <td>8.40</td>\n",
       "      <td>1.59</td>\n",
       "      <td>0.0</td>\n",
       "      <td>7</td>\n",
       "    </tr>\n",
       "    <tr>\n",
       "      <th>211</th>\n",
       "      <td>212</td>\n",
       "      <td>1.52065</td>\n",
       "      <td>14.36</td>\n",
       "      <td>0.00</td>\n",
       "      <td>2.02</td>\n",
       "      <td>73.42</td>\n",
       "      <td>0.00</td>\n",
       "      <td>8.44</td>\n",
       "      <td>1.64</td>\n",
       "      <td>0.0</td>\n",
       "      <td>7</td>\n",
       "    </tr>\n",
       "    <tr>\n",
       "      <th>212</th>\n",
       "      <td>213</td>\n",
       "      <td>1.51651</td>\n",
       "      <td>14.38</td>\n",
       "      <td>0.00</td>\n",
       "      <td>1.94</td>\n",
       "      <td>73.61</td>\n",
       "      <td>0.00</td>\n",
       "      <td>8.48</td>\n",
       "      <td>1.57</td>\n",
       "      <td>0.0</td>\n",
       "      <td>7</td>\n",
       "    </tr>\n",
       "    <tr>\n",
       "      <th>213</th>\n",
       "      <td>214</td>\n",
       "      <td>1.51711</td>\n",
       "      <td>14.23</td>\n",
       "      <td>0.00</td>\n",
       "      <td>2.08</td>\n",
       "      <td>73.36</td>\n",
       "      <td>0.00</td>\n",
       "      <td>8.62</td>\n",
       "      <td>1.67</td>\n",
       "      <td>0.0</td>\n",
       "      <td>7</td>\n",
       "    </tr>\n",
       "  </tbody>\n",
       "</table>\n",
       "<p>214 rows × 11 columns</p>\n",
       "</div>"
      ],
      "text/plain": [
       "     Id number       RI     Na    Mg    Al     Si     K    Ca    Ba   Fe  \\\n",
       "0            1  1.52101  13.64  4.49  1.10  71.78  0.06  8.75  0.00  0.0   \n",
       "1            2  1.51761  13.89  3.60  1.36  72.73  0.48  7.83  0.00  0.0   \n",
       "2            3  1.51618  13.53  3.55  1.54  72.99  0.39  7.78  0.00  0.0   \n",
       "3            4  1.51766  13.21  3.69  1.29  72.61  0.57  8.22  0.00  0.0   \n",
       "4            5  1.51742  13.27  3.62  1.24  73.08  0.55  8.07  0.00  0.0   \n",
       "..         ...      ...    ...   ...   ...    ...   ...   ...   ...  ...   \n",
       "209        210  1.51623  14.14  0.00  2.88  72.61  0.08  9.18  1.06  0.0   \n",
       "210        211  1.51685  14.92  0.00  1.99  73.06  0.00  8.40  1.59  0.0   \n",
       "211        212  1.52065  14.36  0.00  2.02  73.42  0.00  8.44  1.64  0.0   \n",
       "212        213  1.51651  14.38  0.00  1.94  73.61  0.00  8.48  1.57  0.0   \n",
       "213        214  1.51711  14.23  0.00  2.08  73.36  0.00  8.62  1.67  0.0   \n",
       "\n",
       "     Type of glass  \n",
       "0                1  \n",
       "1                1  \n",
       "2                1  \n",
       "3                1  \n",
       "4                1  \n",
       "..             ...  \n",
       "209              7  \n",
       "210              7  \n",
       "211              7  \n",
       "212              7  \n",
       "213              7  \n",
       "\n",
       "[214 rows x 11 columns]"
      ]
     },
     "execution_count": 4,
     "metadata": {},
     "output_type": "execute_result"
    }
   ],
   "source": [
    "df=pd.read_csv(\"glass.csv\",names=['Id number','RI','Na','Mg','Al','Si','K','Ca','Ba','Fe','Type of glass'])\n",
    "df"
   ]
  },
  {
   "cell_type": "markdown",
   "id": "505ad7e5",
   "metadata": {},
   "source": [
    "Data Visualization"
   ]
  },
  {
   "cell_type": "code",
   "execution_count": 5,
   "id": "b09afbbd",
   "metadata": {},
   "outputs": [
    {
     "data": {
      "text/html": [
       "<div>\n",
       "<style scoped>\n",
       "    .dataframe tbody tr th:only-of-type {\n",
       "        vertical-align: middle;\n",
       "    }\n",
       "\n",
       "    .dataframe tbody tr th {\n",
       "        vertical-align: top;\n",
       "    }\n",
       "\n",
       "    .dataframe thead th {\n",
       "        text-align: right;\n",
       "    }\n",
       "</style>\n",
       "<table border=\"1\" class=\"dataframe\">\n",
       "  <thead>\n",
       "    <tr style=\"text-align: right;\">\n",
       "      <th></th>\n",
       "      <th>Id number</th>\n",
       "      <th>RI</th>\n",
       "      <th>Na</th>\n",
       "      <th>Mg</th>\n",
       "      <th>Al</th>\n",
       "      <th>Si</th>\n",
       "      <th>K</th>\n",
       "      <th>Ca</th>\n",
       "      <th>Ba</th>\n",
       "      <th>Fe</th>\n",
       "      <th>Type of glass</th>\n",
       "    </tr>\n",
       "  </thead>\n",
       "  <tbody>\n",
       "    <tr>\n",
       "      <th>159</th>\n",
       "      <td>160</td>\n",
       "      <td>1.51796</td>\n",
       "      <td>13.50</td>\n",
       "      <td>3.36</td>\n",
       "      <td>1.63</td>\n",
       "      <td>71.94</td>\n",
       "      <td>0.57</td>\n",
       "      <td>8.81</td>\n",
       "      <td>0.0</td>\n",
       "      <td>0.09</td>\n",
       "      <td>3</td>\n",
       "    </tr>\n",
       "    <tr>\n",
       "      <th>54</th>\n",
       "      <td>55</td>\n",
       "      <td>1.51778</td>\n",
       "      <td>13.21</td>\n",
       "      <td>2.81</td>\n",
       "      <td>1.29</td>\n",
       "      <td>72.98</td>\n",
       "      <td>0.51</td>\n",
       "      <td>9.02</td>\n",
       "      <td>0.0</td>\n",
       "      <td>0.09</td>\n",
       "      <td>1</td>\n",
       "    </tr>\n",
       "    <tr>\n",
       "      <th>34</th>\n",
       "      <td>35</td>\n",
       "      <td>1.51783</td>\n",
       "      <td>12.69</td>\n",
       "      <td>3.54</td>\n",
       "      <td>1.34</td>\n",
       "      <td>72.95</td>\n",
       "      <td>0.57</td>\n",
       "      <td>8.75</td>\n",
       "      <td>0.0</td>\n",
       "      <td>0.00</td>\n",
       "      <td>1</td>\n",
       "    </tr>\n",
       "  </tbody>\n",
       "</table>\n",
       "</div>"
      ],
      "text/plain": [
       "     Id number       RI     Na    Mg    Al     Si     K    Ca   Ba    Fe  \\\n",
       "159        160  1.51796  13.50  3.36  1.63  71.94  0.57  8.81  0.0  0.09   \n",
       "54          55  1.51778  13.21  2.81  1.29  72.98  0.51  9.02  0.0  0.09   \n",
       "34          35  1.51783  12.69  3.54  1.34  72.95  0.57  8.75  0.0  0.00   \n",
       "\n",
       "     Type of glass  \n",
       "159              3  \n",
       "54               1  \n",
       "34               1  "
      ]
     },
     "execution_count": 5,
     "metadata": {},
     "output_type": "execute_result"
    }
   ],
   "source": [
    "df.sample(3)"
   ]
  },
  {
   "cell_type": "code",
   "execution_count": 6,
   "id": "f3188c08",
   "metadata": {},
   "outputs": [
    {
     "data": {
      "text/html": [
       "<div>\n",
       "<style scoped>\n",
       "    .dataframe tbody tr th:only-of-type {\n",
       "        vertical-align: middle;\n",
       "    }\n",
       "\n",
       "    .dataframe tbody tr th {\n",
       "        vertical-align: top;\n",
       "    }\n",
       "\n",
       "    .dataframe thead th {\n",
       "        text-align: right;\n",
       "    }\n",
       "</style>\n",
       "<table border=\"1\" class=\"dataframe\">\n",
       "  <thead>\n",
       "    <tr style=\"text-align: right;\">\n",
       "      <th></th>\n",
       "      <th>Id number</th>\n",
       "      <th>RI</th>\n",
       "      <th>Na</th>\n",
       "      <th>Mg</th>\n",
       "      <th>Al</th>\n",
       "      <th>Si</th>\n",
       "      <th>K</th>\n",
       "      <th>Ca</th>\n",
       "      <th>Ba</th>\n",
       "      <th>Fe</th>\n",
       "      <th>Type of glass</th>\n",
       "    </tr>\n",
       "  </thead>\n",
       "  <tbody>\n",
       "    <tr>\n",
       "      <th>0</th>\n",
       "      <td>1</td>\n",
       "      <td>1.52101</td>\n",
       "      <td>13.64</td>\n",
       "      <td>4.49</td>\n",
       "      <td>1.10</td>\n",
       "      <td>71.78</td>\n",
       "      <td>0.06</td>\n",
       "      <td>8.75</td>\n",
       "      <td>0.0</td>\n",
       "      <td>0.0</td>\n",
       "      <td>1</td>\n",
       "    </tr>\n",
       "    <tr>\n",
       "      <th>1</th>\n",
       "      <td>2</td>\n",
       "      <td>1.51761</td>\n",
       "      <td>13.89</td>\n",
       "      <td>3.60</td>\n",
       "      <td>1.36</td>\n",
       "      <td>72.73</td>\n",
       "      <td>0.48</td>\n",
       "      <td>7.83</td>\n",
       "      <td>0.0</td>\n",
       "      <td>0.0</td>\n",
       "      <td>1</td>\n",
       "    </tr>\n",
       "    <tr>\n",
       "      <th>2</th>\n",
       "      <td>3</td>\n",
       "      <td>1.51618</td>\n",
       "      <td>13.53</td>\n",
       "      <td>3.55</td>\n",
       "      <td>1.54</td>\n",
       "      <td>72.99</td>\n",
       "      <td>0.39</td>\n",
       "      <td>7.78</td>\n",
       "      <td>0.0</td>\n",
       "      <td>0.0</td>\n",
       "      <td>1</td>\n",
       "    </tr>\n",
       "    <tr>\n",
       "      <th>3</th>\n",
       "      <td>4</td>\n",
       "      <td>1.51766</td>\n",
       "      <td>13.21</td>\n",
       "      <td>3.69</td>\n",
       "      <td>1.29</td>\n",
       "      <td>72.61</td>\n",
       "      <td>0.57</td>\n",
       "      <td>8.22</td>\n",
       "      <td>0.0</td>\n",
       "      <td>0.0</td>\n",
       "      <td>1</td>\n",
       "    </tr>\n",
       "  </tbody>\n",
       "</table>\n",
       "</div>"
      ],
      "text/plain": [
       "   Id number       RI     Na    Mg    Al     Si     K    Ca   Ba   Fe  \\\n",
       "0          1  1.52101  13.64  4.49  1.10  71.78  0.06  8.75  0.0  0.0   \n",
       "1          2  1.51761  13.89  3.60  1.36  72.73  0.48  7.83  0.0  0.0   \n",
       "2          3  1.51618  13.53  3.55  1.54  72.99  0.39  7.78  0.0  0.0   \n",
       "3          4  1.51766  13.21  3.69  1.29  72.61  0.57  8.22  0.0  0.0   \n",
       "\n",
       "   Type of glass  \n",
       "0              1  \n",
       "1              1  \n",
       "2              1  \n",
       "3              1  "
      ]
     },
     "execution_count": 6,
     "metadata": {},
     "output_type": "execute_result"
    }
   ],
   "source": [
    "df.head(4)"
   ]
  },
  {
   "cell_type": "code",
   "execution_count": 7,
   "id": "e531ad90",
   "metadata": {},
   "outputs": [
    {
     "data": {
      "text/html": [
       "<div>\n",
       "<style scoped>\n",
       "    .dataframe tbody tr th:only-of-type {\n",
       "        vertical-align: middle;\n",
       "    }\n",
       "\n",
       "    .dataframe tbody tr th {\n",
       "        vertical-align: top;\n",
       "    }\n",
       "\n",
       "    .dataframe thead th {\n",
       "        text-align: right;\n",
       "    }\n",
       "</style>\n",
       "<table border=\"1\" class=\"dataframe\">\n",
       "  <thead>\n",
       "    <tr style=\"text-align: right;\">\n",
       "      <th></th>\n",
       "      <th>Id number</th>\n",
       "      <th>RI</th>\n",
       "      <th>Na</th>\n",
       "      <th>Mg</th>\n",
       "      <th>Al</th>\n",
       "      <th>Si</th>\n",
       "      <th>K</th>\n",
       "      <th>Ca</th>\n",
       "      <th>Ba</th>\n",
       "      <th>Fe</th>\n",
       "      <th>Type of glass</th>\n",
       "    </tr>\n",
       "  </thead>\n",
       "  <tbody>\n",
       "    <tr>\n",
       "      <th>210</th>\n",
       "      <td>211</td>\n",
       "      <td>1.51685</td>\n",
       "      <td>14.92</td>\n",
       "      <td>0.0</td>\n",
       "      <td>1.99</td>\n",
       "      <td>73.06</td>\n",
       "      <td>0.0</td>\n",
       "      <td>8.40</td>\n",
       "      <td>1.59</td>\n",
       "      <td>0.0</td>\n",
       "      <td>7</td>\n",
       "    </tr>\n",
       "    <tr>\n",
       "      <th>211</th>\n",
       "      <td>212</td>\n",
       "      <td>1.52065</td>\n",
       "      <td>14.36</td>\n",
       "      <td>0.0</td>\n",
       "      <td>2.02</td>\n",
       "      <td>73.42</td>\n",
       "      <td>0.0</td>\n",
       "      <td>8.44</td>\n",
       "      <td>1.64</td>\n",
       "      <td>0.0</td>\n",
       "      <td>7</td>\n",
       "    </tr>\n",
       "    <tr>\n",
       "      <th>212</th>\n",
       "      <td>213</td>\n",
       "      <td>1.51651</td>\n",
       "      <td>14.38</td>\n",
       "      <td>0.0</td>\n",
       "      <td>1.94</td>\n",
       "      <td>73.61</td>\n",
       "      <td>0.0</td>\n",
       "      <td>8.48</td>\n",
       "      <td>1.57</td>\n",
       "      <td>0.0</td>\n",
       "      <td>7</td>\n",
       "    </tr>\n",
       "    <tr>\n",
       "      <th>213</th>\n",
       "      <td>214</td>\n",
       "      <td>1.51711</td>\n",
       "      <td>14.23</td>\n",
       "      <td>0.0</td>\n",
       "      <td>2.08</td>\n",
       "      <td>73.36</td>\n",
       "      <td>0.0</td>\n",
       "      <td>8.62</td>\n",
       "      <td>1.67</td>\n",
       "      <td>0.0</td>\n",
       "      <td>7</td>\n",
       "    </tr>\n",
       "  </tbody>\n",
       "</table>\n",
       "</div>"
      ],
      "text/plain": [
       "     Id number       RI     Na   Mg    Al     Si    K    Ca    Ba   Fe  \\\n",
       "210        211  1.51685  14.92  0.0  1.99  73.06  0.0  8.40  1.59  0.0   \n",
       "211        212  1.52065  14.36  0.0  2.02  73.42  0.0  8.44  1.64  0.0   \n",
       "212        213  1.51651  14.38  0.0  1.94  73.61  0.0  8.48  1.57  0.0   \n",
       "213        214  1.51711  14.23  0.0  2.08  73.36  0.0  8.62  1.67  0.0   \n",
       "\n",
       "     Type of glass  \n",
       "210              7  \n",
       "211              7  \n",
       "212              7  \n",
       "213              7  "
      ]
     },
     "execution_count": 7,
     "metadata": {},
     "output_type": "execute_result"
    }
   ],
   "source": [
    "df.tail(4)"
   ]
  },
  {
   "cell_type": "code",
   "execution_count": 8,
   "id": "a870b033",
   "metadata": {},
   "outputs": [
    {
     "data": {
      "text/plain": [
       "Id number          int64\n",
       "RI               float64\n",
       "Na               float64\n",
       "Mg               float64\n",
       "Al               float64\n",
       "Si               float64\n",
       "K                float64\n",
       "Ca               float64\n",
       "Ba               float64\n",
       "Fe               float64\n",
       "Type of glass      int64\n",
       "dtype: object"
      ]
     },
     "execution_count": 8,
     "metadata": {},
     "output_type": "execute_result"
    }
   ],
   "source": [
    "df.dtypes"
   ]
  },
  {
   "cell_type": "code",
   "execution_count": 9,
   "id": "785470a1",
   "metadata": {},
   "outputs": [],
   "source": [
    "#Observation : No need of encoding as all data is int /float"
   ]
  },
  {
   "cell_type": "code",
   "execution_count": 10,
   "id": "ae4b6358",
   "metadata": {},
   "outputs": [
    {
     "data": {
      "text/plain": [
       "Index(['Id number', 'RI', 'Na', 'Mg', 'Al', 'Si', 'K', 'Ca', 'Ba', 'Fe',\n",
       "       'Type of glass'],\n",
       "      dtype='object')"
      ]
     },
     "execution_count": 10,
     "metadata": {},
     "output_type": "execute_result"
    }
   ],
   "source": [
    "df.columns"
   ]
  },
  {
   "cell_type": "markdown",
   "id": "1c11e0f9",
   "metadata": {},
   "source": [
    "Checking Null Values"
   ]
  },
  {
   "cell_type": "code",
   "execution_count": 11,
   "id": "be323c95",
   "metadata": {},
   "outputs": [
    {
     "data": {
      "text/plain": [
       "Id number        0\n",
       "RI               0\n",
       "Na               0\n",
       "Mg               0\n",
       "Al               0\n",
       "Si               0\n",
       "K                0\n",
       "Ca               0\n",
       "Ba               0\n",
       "Fe               0\n",
       "Type of glass    0\n",
       "dtype: int64"
      ]
     },
     "execution_count": 11,
     "metadata": {},
     "output_type": "execute_result"
    }
   ],
   "source": [
    "df.isnull().sum()"
   ]
  },
  {
   "cell_type": "markdown",
   "id": "a8771fa0",
   "metadata": {},
   "source": [
    "*Observation : No Null value so no treatment needed"
   ]
  },
  {
   "cell_type": "markdown",
   "id": "f936d181",
   "metadata": {},
   "source": [
    "#Heatmap of Null Values"
   ]
  },
  {
   "cell_type": "code",
   "execution_count": 12,
   "id": "dfdf6cd2",
   "metadata": {},
   "outputs": [
    {
     "data": {
      "text/plain": [
       "<AxesSubplot:>"
      ]
     },
     "execution_count": 12,
     "metadata": {},
     "output_type": "execute_result"
    },
    {
     "data": {
      "image/png": "[encoded data removed]",
      "text/plain": [
       "<Figure size 432x288 with 2 Axes>"
      ]
     },
     "metadata": {
      "needs_background": "light"
     },
     "output_type": "display_data"
    }
   ],
   "source": [
    "sns.heatmap(df.isnull())"
   ]
  },
  {
   "cell_type": "markdown",
   "id": "fc3fb3c9",
   "metadata": {},
   "source": [
    "# Statistical Summary"
   ]
  },
  {
   "cell_type": "code",
   "execution_count": 13,
   "id": "51b9f6ee",
   "metadata": {},
   "outputs": [
    {
     "data": {
      "text/html": [
       "<div>\n",
       "<style scoped>\n",
       "    .dataframe tbody tr th:only-of-type {\n",
       "        vertical-align: middle;\n",
       "    }\n",
       "\n",
       "    .dataframe tbody tr th {\n",
       "        vertical-align: top;\n",
       "    }\n",
       "\n",
       "    .dataframe thead th {\n",
       "        text-align: right;\n",
       "    }\n",
       "</style>\n",
       "<table border=\"1\" class=\"dataframe\">\n",
       "  <thead>\n",
       "    <tr style=\"text-align: right;\">\n",
       "      <th></th>\n",
       "      <th>Id number</th>\n",
       "      <th>RI</th>\n",
       "      <th>Na</th>\n",
       "      <th>Mg</th>\n",
       "      <th>Al</th>\n",
       "      <th>Si</th>\n",
       "      <th>K</th>\n",
       "      <th>Ca</th>\n",
       "      <th>Ba</th>\n",
       "      <th>Fe</th>\n",
       "      <th>Type of glass</th>\n",
       "    </tr>\n",
       "  </thead>\n",
       "  <tbody>\n",
       "    <tr>\n",
       "      <th>count</th>\n",
       "      <td>214.000000</td>\n",
       "      <td>214.000000</td>\n",
       "      <td>214.000000</td>\n",
       "      <td>214.000000</td>\n",
       "      <td>214.000000</td>\n",
       "      <td>214.000000</td>\n",
       "      <td>214.000000</td>\n",
       "      <td>214.000000</td>\n",
       "      <td>214.000000</td>\n",
       "      <td>214.000000</td>\n",
       "      <td>214.000000</td>\n",
       "    </tr>\n",
       "    <tr>\n",
       "      <th>mean</th>\n",
       "      <td>107.500000</td>\n",
       "      <td>1.518365</td>\n",
       "      <td>13.407850</td>\n",
       "      <td>2.684533</td>\n",
       "      <td>1.444907</td>\n",
       "      <td>72.650935</td>\n",
       "      <td>0.497056</td>\n",
       "      <td>8.956963</td>\n",
       "      <td>0.175047</td>\n",
       "      <td>0.057009</td>\n",
       "      <td>2.780374</td>\n",
       "    </tr>\n",
       "    <tr>\n",
       "      <th>std</th>\n",
       "      <td>61.920648</td>\n",
       "      <td>0.003037</td>\n",
       "      <td>0.816604</td>\n",
       "      <td>1.442408</td>\n",
       "      <td>0.499270</td>\n",
       "      <td>0.774546</td>\n",
       "      <td>0.652192</td>\n",
       "      <td>1.423153</td>\n",
       "      <td>0.497219</td>\n",
       "      <td>0.097439</td>\n",
       "      <td>2.103739</td>\n",
       "    </tr>\n",
       "    <tr>\n",
       "      <th>min</th>\n",
       "      <td>1.000000</td>\n",
       "      <td>1.511150</td>\n",
       "      <td>10.730000</td>\n",
       "      <td>0.000000</td>\n",
       "      <td>0.290000</td>\n",
       "      <td>69.810000</td>\n",
       "      <td>0.000000</td>\n",
       "      <td>5.430000</td>\n",
       "      <td>0.000000</td>\n",
       "      <td>0.000000</td>\n",
       "      <td>1.000000</td>\n",
       "    </tr>\n",
       "    <tr>\n",
       "      <th>25%</th>\n",
       "      <td>54.250000</td>\n",
       "      <td>1.516522</td>\n",
       "      <td>12.907500</td>\n",
       "      <td>2.115000</td>\n",
       "      <td>1.190000</td>\n",
       "      <td>72.280000</td>\n",
       "      <td>0.122500</td>\n",
       "      <td>8.240000</td>\n",
       "      <td>0.000000</td>\n",
       "      <td>0.000000</td>\n",
       "      <td>1.000000</td>\n",
       "    </tr>\n",
       "    <tr>\n",
       "      <th>50%</th>\n",
       "      <td>107.500000</td>\n",
       "      <td>1.517680</td>\n",
       "      <td>13.300000</td>\n",
       "      <td>3.480000</td>\n",
       "      <td>1.360000</td>\n",
       "      <td>72.790000</td>\n",
       "      <td>0.555000</td>\n",
       "      <td>8.600000</td>\n",
       "      <td>0.000000</td>\n",
       "      <td>0.000000</td>\n",
       "      <td>2.000000</td>\n",
       "    </tr>\n",
       "    <tr>\n",
       "      <th>75%</th>\n",
       "      <td>160.750000</td>\n",
       "      <td>1.519157</td>\n",
       "      <td>13.825000</td>\n",
       "      <td>3.600000</td>\n",
       "      <td>1.630000</td>\n",
       "      <td>73.087500</td>\n",
       "      <td>0.610000</td>\n",
       "      <td>9.172500</td>\n",
       "      <td>0.000000</td>\n",
       "      <td>0.100000</td>\n",
       "      <td>3.000000</td>\n",
       "    </tr>\n",
       "    <tr>\n",
       "      <th>max</th>\n",
       "      <td>214.000000</td>\n",
       "      <td>1.533930</td>\n",
       "      <td>17.380000</td>\n",
       "      <td>4.490000</td>\n",
       "      <td>3.500000</td>\n",
       "      <td>75.410000</td>\n",
       "      <td>6.210000</td>\n",
       "      <td>16.190000</td>\n",
       "      <td>3.150000</td>\n",
       "      <td>0.510000</td>\n",
       "      <td>7.000000</td>\n",
       "    </tr>\n",
       "  </tbody>\n",
       "</table>\n",
       "</div>"
      ],
      "text/plain": [
       "        Id number          RI          Na          Mg          Al          Si  \\\n",
       "count  214.000000  214.000000  214.000000  214.000000  214.000000  214.000000   \n",
       "mean   107.500000    1.518365   13.407850    2.684533    1.444907   72.650935   \n",
       "std     61.920648    0.003037    0.816604    1.442408    0.499270    0.774546   \n",
       "min      1.000000    1.511150   10.730000    0.000000    0.290000   69.810000   \n",
       "25%     54.250000    1.516522   12.907500    2.115000    1.190000   72.280000   \n",
       "50%    107.500000    1.517680   13.300000    3.480000    1.360000   72.790000   \n",
       "75%    160.750000    1.519157   13.825000    3.600000    1.630000   73.087500   \n",
       "max    214.000000    1.533930   17.380000    4.490000    3.500000   75.410000   \n",
       "\n",
       "                K          Ca          Ba          Fe  Type of glass  \n",
       "count  214.000000  214.000000  214.000000  214.000000     214.000000  \n",
       "mean     0.497056    8.956963    0.175047    0.057009       2.780374  \n",
       "std      0.652192    1.423153    0.497219    0.097439       2.103739  \n",
       "min      0.000000    5.430000    0.000000    0.000000       1.000000  \n",
       "25%      0.122500    8.240000    0.000000    0.000000       1.000000  \n",
       "50%      0.555000    8.600000    0.000000    0.000000       2.000000  \n",
       "75%      0.610000    9.172500    0.000000    0.100000       3.000000  \n",
       "max      6.210000   16.190000    3.150000    0.510000       7.000000  "
      ]
     },
     "execution_count": 13,
     "metadata": {},
     "output_type": "execute_result"
    }
   ],
   "source": [
    "df.describe()"
   ]
  },
  {
   "cell_type": "code",
   "execution_count": 14,
   "id": "79c2e082",
   "metadata": {},
   "outputs": [],
   "source": [
    "#Observation : There is not much difference in mean and median value. Very less skewness present\n",
    "# and columns having 75% and max value difference have outliers "
   ]
  },
  {
   "cell_type": "markdown",
   "id": "47408c4d",
   "metadata": {},
   "source": [
    "EDA"
   ]
  },
  {
   "cell_type": "code",
   "execution_count": 14,
   "id": "bf9365eb",
   "metadata": {},
   "outputs": [],
   "source": [
    "#Univariate Analysis\n",
    "\n",
    "#BoxPlot"
   ]
  },
  {
   "cell_type": "code",
   "execution_count": 15,
   "id": "fac6795e",
   "metadata": {},
   "outputs": [
    {
     "data": {
      "text/plain": [
       "<AxesSubplot:>"
      ]
     },
     "execution_count": 15,
     "metadata": {},
     "output_type": "execute_result"
    },
    {
     "data": {
      "image/png": "[encoded data removed]",
      "text/plain": [
       "<Figure size 432x288 with 1 Axes>"
      ]
     },
     "metadata": {
      "needs_background": "light"
     },
     "output_type": "display_data"
    }
   ],
   "source": [
    "df['RI'].plot.box()"
   ]
  },
  {
   "cell_type": "code",
   "execution_count": 16,
   "id": "83255ece",
   "metadata": {},
   "outputs": [],
   "source": [
    "#Obervation : Column RI has high outliers"
   ]
  },
  {
   "cell_type": "code",
   "execution_count": 17,
   "id": "02b0ca33",
   "metadata": {},
   "outputs": [
    {
     "data": {
      "text/plain": [
       "<AxesSubplot:>"
      ]
     },
     "execution_count": 17,
     "metadata": {},
     "output_type": "execute_result"
    },
    {
     "data": {
      "image/png": "[encoded data removed]",
      "text/plain": [
       "<Figure size 432x288 with 1 Axes>"
      ]
     },
     "metadata": {
      "needs_background": "light"
     },
     "output_type": "display_data"
    }
   ],
   "source": [
    "df['Na'].plot.box()"
   ]
  },
  {
   "cell_type": "code",
   "execution_count": 18,
   "id": "a7d9333d",
   "metadata": {},
   "outputs": [],
   "source": [
    "#Obervation : Column Na has normal outliers"
   ]
  },
  {
   "cell_type": "code",
   "execution_count": 19,
   "id": "7d42cbe2",
   "metadata": {},
   "outputs": [
    {
     "data": {
      "text/plain": [
       "<AxesSubplot:>"
      ]
     },
     "execution_count": 19,
     "metadata": {},
     "output_type": "execute_result"
    },
    {
     "data": {
      "image/png": "[encoded data removed]",
      "text/plain": [
       "<Figure size 432x288 with 1 Axes>"
      ]
     },
     "metadata": {
      "needs_background": "light"
     },
     "output_type": "display_data"
    }
   ],
   "source": [
    "df['Mg'].plot.box()"
   ]
  },
  {
   "cell_type": "code",
   "execution_count": 20,
   "id": "0955a75d",
   "metadata": {},
   "outputs": [],
   "source": [
    "#Obervation : Column Mg has no outliers"
   ]
  },
  {
   "cell_type": "code",
   "execution_count": 21,
   "id": "7a6f4ef1",
   "metadata": {},
   "outputs": [
    {
     "data": {
      "text/plain": [
       "<AxesSubplot:>"
      ]
     },
     "execution_count": 21,
     "metadata": {},
     "output_type": "execute_result"
    },
    {
     "data": {
      "image/png": "[encoded data removed]",
      "text/plain": [
       "<Figure size 432x288 with 1 Axes>"
      ]
     },
     "metadata": {
      "needs_background": "light"
     },
     "output_type": "display_data"
    }
   ],
   "source": [
    "df['Al'].plot.box()"
   ]
  },
  {
   "cell_type": "code",
   "execution_count": 22,
   "id": "ae82803b",
   "metadata": {},
   "outputs": [],
   "source": [
    "#Obervation : Column Al has high outliers"
   ]
  },
  {
   "cell_type": "code",
   "execution_count": 23,
   "id": "f20cbe41",
   "metadata": {},
   "outputs": [
    {
     "data": {
      "text/plain": [
       "<AxesSubplot:>"
      ]
     },
     "execution_count": 23,
     "metadata": {},
     "output_type": "execute_result"
    },
    {
     "data": {
      "image/png": "[encoded data removed]",
      "text/plain": [
       "<Figure size 432x288 with 1 Axes>"
      ]
     },
     "metadata": {
      "needs_background": "light"
     },
     "output_type": "display_data"
    }
   ],
   "source": [
    "df['Si'].plot.box()"
   ]
  },
  {
   "cell_type": "code",
   "execution_count": 24,
   "id": "71538077",
   "metadata": {},
   "outputs": [],
   "source": [
    "#Obervation : Column Si has high outliers"
   ]
  },
  {
   "cell_type": "code",
   "execution_count": 25,
   "id": "59939cd6",
   "metadata": {},
   "outputs": [
    {
     "data": {
      "text/plain": [
       "<AxesSubplot:>"
      ]
     },
     "execution_count": 25,
     "metadata": {},
     "output_type": "execute_result"
    },
    {
     "data": {
      "image/png": "[encoded data removed]",
      "text/plain": [
       "<Figure size 432x288 with 1 Axes>"
      ]
     },
     "metadata": {
      "needs_background": "light"
     },
     "output_type": "display_data"
    }
   ],
   "source": [
    "df['K'].plot.box()"
   ]
  },
  {
   "cell_type": "code",
   "execution_count": 26,
   "id": "bd07f91e",
   "metadata": {},
   "outputs": [],
   "source": [
    "#Obervation : Column K has normal outliers"
   ]
  },
  {
   "cell_type": "code",
   "execution_count": 27,
   "id": "b1b82cad",
   "metadata": {},
   "outputs": [
    {
     "data": {
      "text/plain": [
       "<AxesSubplot:>"
      ]
     },
     "execution_count": 27,
     "metadata": {},
     "output_type": "execute_result"
    },
    {
     "data": {
      "image/png": "[encoded data removed]",
      "text/plain": [
       "<Figure size 432x288 with 1 Axes>"
      ]
     },
     "metadata": {
      "needs_background": "light"
     },
     "output_type": "display_data"
    }
   ],
   "source": [
    "df['Ba'].plot.box()"
   ]
  },
  {
   "cell_type": "code",
   "execution_count": 28,
   "id": "76c56560",
   "metadata": {},
   "outputs": [],
   "source": [
    "#Obervation : Column Ba has very much outliers"
   ]
  },
  {
   "cell_type": "code",
   "execution_count": 29,
   "id": "92cf67a1",
   "metadata": {},
   "outputs": [
    {
     "data": {
      "text/plain": [
       "<AxesSubplot:>"
      ]
     },
     "execution_count": 29,
     "metadata": {},
     "output_type": "execute_result"
    },
    {
     "data": {
      "image/png": "[encoded data removed]",
      "text/plain": [
       "<Figure size 432x288 with 1 Axes>"
      ]
     },
     "metadata": {
      "needs_background": "light"
     },
     "output_type": "display_data"
    }
   ],
   "source": [
    "df['Ca'].plot.box()"
   ]
  },
  {
   "cell_type": "code",
   "execution_count": 30,
   "id": "f845b8c7",
   "metadata": {},
   "outputs": [],
   "source": [
    "#Obervation : Column Ca has high outliers"
   ]
  },
  {
   "cell_type": "code",
   "execution_count": 31,
   "id": "f106c85e",
   "metadata": {},
   "outputs": [
    {
     "data": {
      "text/plain": [
       "<AxesSubplot:>"
      ]
     },
     "execution_count": 31,
     "metadata": {},
     "output_type": "execute_result"
    },
    {
     "data": {
      "image/png": "[encoded data removed]",
      "text/plain": [
       "<Figure size 432x288 with 1 Axes>"
      ]
     },
     "metadata": {
      "needs_background": "light"
     },
     "output_type": "display_data"
    }
   ],
   "source": [
    "df['Fe'].plot.box()"
   ]
  },
  {
   "cell_type": "code",
   "execution_count": 32,
   "id": "7041718c",
   "metadata": {},
   "outputs": [],
   "source": [
    "#Obervation : Column Fe has high outliers  "
   ]
  },
  {
   "cell_type": "code",
   "execution_count": 33,
   "id": "835a8c5d",
   "metadata": {},
   "outputs": [],
   "source": [
    "#Distribution Plot"
   ]
  },
  {
   "cell_type": "code",
   "execution_count": 34,
   "id": "4af9658a",
   "metadata": {},
   "outputs": [
    {
     "data": {
      "text/plain": [
       "<AxesSubplot:xlabel='RI', ylabel='Density'>"
      ]
     },
     "execution_count": 34,
     "metadata": {},
     "output_type": "execute_result"
    },
    {
     "data": {
      "image/png": "[encoded data removed]",
      "text/plain": [
       "<Figure size 432x288 with 1 Axes>"
      ]
     },
     "metadata": {
      "needs_background": "light"
     },
     "output_type": "display_data"
    }
   ],
   "source": [
    "sns.distplot(df['RI'])"
   ]
  },
  {
   "cell_type": "code",
   "execution_count": 35,
   "id": "c9216b87",
   "metadata": {},
   "outputs": [],
   "source": [
    "#Obervation : Column RI has right skewed data"
   ]
  },
  {
   "cell_type": "code",
   "execution_count": 36,
   "id": "88395adf",
   "metadata": {},
   "outputs": [
    {
     "data": {
      "text/plain": [
       "<AxesSubplot:xlabel='Na', ylabel='Density'>"
      ]
     },
     "execution_count": 36,
     "metadata": {},
     "output_type": "execute_result"
    },
    {
     "data": {
      "image/png": "[encoded data removed]",
      "text/plain": [
       "<Figure size 432x288 with 1 Axes>"
      ]
     },
     "metadata": {
      "needs_background": "light"
     },
     "output_type": "display_data"
    }
   ],
   "source": [
    "sns.distplot(df['Na'])"
   ]
  },
  {
   "cell_type": "code",
   "execution_count": 37,
   "id": "ff84d457",
   "metadata": {},
   "outputs": [],
   "source": [
    "#Obervation : Column Na has right skewed data"
   ]
  },
  {
   "cell_type": "code",
   "execution_count": 38,
   "id": "8ab801af",
   "metadata": {},
   "outputs": [
    {
     "data": {
      "text/plain": [
       "<AxesSubplot:xlabel='Ba', ylabel='Density'>"
      ]
     },
     "execution_count": 38,
     "metadata": {},
     "output_type": "execute_result"
    },
    {
     "data": {
      "image/png": "[encoded data removed]",
      "text/plain": [
       "<Figure size 432x288 with 1 Axes>"
      ]
     },
     "metadata": {
      "needs_background": "light"
     },
     "output_type": "display_data"
    }
   ],
   "source": [
    "sns.distplot(df['Ba'])"
   ]
  },
  {
   "cell_type": "code",
   "execution_count": 39,
   "id": "6a2cf48d",
   "metadata": {},
   "outputs": [],
   "source": [
    "#Obervation : Column Ba has right skewed data"
   ]
  },
  {
   "cell_type": "code",
   "execution_count": 40,
   "id": "9e9fa16d",
   "metadata": {},
   "outputs": [
    {
     "data": {
      "text/plain": [
       "<AxesSubplot:xlabel='K', ylabel='Density'>"
      ]
     },
     "execution_count": 40,
     "metadata": {},
     "output_type": "execute_result"
    },
    {
     "data": {
      "image/png": "[encoded data removed]",
      "text/plain": [
       "<Figure size 432x288 with 1 Axes>"
      ]
     },
     "metadata": {
      "needs_background": "light"
     },
     "output_type": "display_data"
    }
   ],
   "source": [
    "sns.distplot(df['K'])"
   ]
  },
  {
   "cell_type": "code",
   "execution_count": 41,
   "id": "15ddef32",
   "metadata": {},
   "outputs": [],
   "source": [
    "#Obervation : Column K has little asymmetry in data"
   ]
  },
  {
   "cell_type": "code",
   "execution_count": 42,
   "id": "253887c0",
   "metadata": {},
   "outputs": [
    {
     "data": {
      "text/plain": [
       "<AxesSubplot:xlabel='Si', ylabel='Density'>"
      ]
     },
     "execution_count": 42,
     "metadata": {},
     "output_type": "execute_result"
    },
    {
     "data": {
      "image/png": "[encoded data removed]",
      "text/plain": [
       "<Figure size 432x288 with 1 Axes>"
      ]
     },
     "metadata": {
      "needs_background": "light"
     },
     "output_type": "display_data"
    }
   ],
   "source": [
    "sns.distplot(df['Si'])"
   ]
  },
  {
   "cell_type": "code",
   "execution_count": 43,
   "id": "224c5f49",
   "metadata": {},
   "outputs": [],
   "source": [
    "#Obervation : Column Si has left skewed data"
   ]
  },
  {
   "cell_type": "code",
   "execution_count": 44,
   "id": "d0016954",
   "metadata": {},
   "outputs": [
    {
     "data": {
      "text/plain": [
       "<AxesSubplot:xlabel='Al', ylabel='Density'>"
      ]
     },
     "execution_count": 44,
     "metadata": {},
     "output_type": "execute_result"
    },
    {
     "data": {
      "image/png": "[encoded data removed]",
      "text/plain": [
       "<Figure size 432x288 with 1 Axes>"
      ]
     },
     "metadata": {
      "needs_background": "light"
     },
     "output_type": "display_data"
    }
   ],
   "source": [
    "sns.distplot(df['Al'])"
   ]
  },
  {
   "cell_type": "code",
   "execution_count": 45,
   "id": "c4f9fc90",
   "metadata": {},
   "outputs": [],
   "source": [
    "#Obervation : Column Al has normally distributed data"
   ]
  },
  {
   "cell_type": "code",
   "execution_count": 46,
   "id": "0fe98c18",
   "metadata": {},
   "outputs": [
    {
     "data": {
      "text/plain": [
       "<AxesSubplot:xlabel='Mg', ylabel='Density'>"
      ]
     },
     "execution_count": 46,
     "metadata": {},
     "output_type": "execute_result"
    },
    {
     "data": {
      "image/png": "[encoded data removed]",
      "text/plain": [
       "<Figure size 432x288 with 1 Axes>"
      ]
     },
     "metadata": {
      "needs_background": "light"
     },
     "output_type": "display_data"
    }
   ],
   "source": [
    "sns.distplot(df['Mg'])"
   ]
  },
  {
   "cell_type": "code",
   "execution_count": 47,
   "id": "eb8bbb9e",
   "metadata": {},
   "outputs": [],
   "source": [
    "#Obervation : Column Mg has left skewed data"
   ]
  },
  {
   "cell_type": "code",
   "execution_count": 48,
   "id": "ec9f23f0",
   "metadata": {},
   "outputs": [
    {
     "data": {
      "text/plain": [
       "<AxesSubplot:xlabel='Ca', ylabel='Density'>"
      ]
     },
     "execution_count": 48,
     "metadata": {},
     "output_type": "execute_result"
    },
    {
     "data": {
      "image/png": "[encoded data removed]",
      "text/plain": [
       "<Figure size 432x288 with 1 Axes>"
      ]
     },
     "metadata": {
      "needs_background": "light"
     },
     "output_type": "display_data"
    }
   ],
   "source": [
    "sns.distplot(df['Ca'])"
   ]
  },
  {
   "cell_type": "code",
   "execution_count": 49,
   "id": "7f23d291",
   "metadata": {},
   "outputs": [],
   "source": [
    "#Obervation : Column Ca has data distributed mainly in 6 to 12 points"
   ]
  },
  {
   "cell_type": "code",
   "execution_count": 50,
   "id": "3c4cf0af",
   "metadata": {},
   "outputs": [
    {
     "data": {
      "text/plain": [
       "<AxesSubplot:xlabel='Fe', ylabel='Density'>"
      ]
     },
     "execution_count": 50,
     "metadata": {},
     "output_type": "execute_result"
    },
    {
     "data": {
      "image/png": "[encoded data removed]",
      "text/plain": [
       "<Figure size 432x288 with 1 Axes>"
      ]
     },
     "metadata": {
      "needs_background": "light"
     },
     "output_type": "display_data"
    }
   ],
   "source": [
    "sns.distplot(df['Fe'])"
   ]
  },
  {
   "cell_type": "code",
   "execution_count": 51,
   "id": "47539ea2",
   "metadata": {},
   "outputs": [],
   "source": [
    "#Obervation : Column Fe has left skewed data"
   ]
  },
  {
   "cell_type": "code",
   "execution_count": 52,
   "id": "2de9c149",
   "metadata": {},
   "outputs": [],
   "source": [
    "#Observation: Skewness present in columns, data is not evenly distributed, distorted data is present"
   ]
  },
  {
   "cell_type": "markdown",
   "id": "7375e66a",
   "metadata": {},
   "source": [
    "#Biivariate Analysis with target variable"
   ]
  },
  {
   "cell_type": "code",
   "execution_count": 53,
   "id": "3d687301",
   "metadata": {},
   "outputs": [
    {
     "data": {
      "text/plain": [
       "<matplotlib.collections.PathCollection at 0x1b9998d6c40>"
      ]
     },
     "execution_count": 53,
     "metadata": {},
     "output_type": "execute_result"
    },
    {
     "data": {
      "image/png": "[encoded data removed]",
      "text/plain": [
       "<Figure size 432x288 with 1 Axes>"
      ]
     },
     "metadata": {
      "needs_background": "light"
     },
     "output_type": "display_data"
    }
   ],
   "source": [
    "plt.scatter(df['RI'],df['Type of glass'])"
   ]
  },
  {
   "cell_type": "code",
   "execution_count": 54,
   "id": "ed31cb28",
   "metadata": {},
   "outputs": [],
   "source": [
    "#Obervation : Data mainly present in points 1515 to 1528"
   ]
  },
  {
   "cell_type": "code",
   "execution_count": 55,
   "id": "342ccbf5",
   "metadata": {},
   "outputs": [
    {
     "data": {
      "text/plain": [
       "<matplotlib.collections.PathCollection at 0x1b999936f40>"
      ]
     },
     "execution_count": 55,
     "metadata": {},
     "output_type": "execute_result"
    },
    {
     "data": {
      "image/png": "[encoded data removed]",
      "text/plain": [
       "<Figure size 432x288 with 1 Axes>"
      ]
     },
     "metadata": {
      "needs_background": "light"
     },
     "output_type": "display_data"
    }
   ],
   "source": [
    "plt.scatter(df['Na'],df['Type of glass'])"
   ]
  },
  {
   "cell_type": "code",
   "execution_count": 56,
   "id": "6d9599dc",
   "metadata": {},
   "outputs": [],
   "source": [
    "#Obervation : Data mainly present in points 12 to 15"
   ]
  },
  {
   "cell_type": "code",
   "execution_count": 57,
   "id": "aa886efd",
   "metadata": {},
   "outputs": [
    {
     "data": {
      "text/plain": [
       "<matplotlib.collections.PathCollection at 0x1b9999a0190>"
      ]
     },
     "execution_count": 57,
     "metadata": {},
     "output_type": "execute_result"
    },
    {
     "data": {
      "image/png": "[encoded data removed]",
      "text/plain": [
       "<Figure size 432x288 with 1 Axes>"
      ]
     },
     "metadata": {
      "needs_background": "light"
     },
     "output_type": "display_data"
    }
   ],
   "source": [
    "plt.scatter(df['Mg'],df['Type of glass'])"
   ]
  },
  {
   "cell_type": "code",
   "execution_count": 58,
   "id": "96b66861",
   "metadata": {},
   "outputs": [],
   "source": [
    "#Obervation : Data mainly present in points 3 to 4"
   ]
  },
  {
   "cell_type": "code",
   "execution_count": 59,
   "id": "5f50336c",
   "metadata": {},
   "outputs": [
    {
     "data": {
      "text/plain": [
       "<matplotlib.collections.PathCollection at 0x1b9999f5790>"
      ]
     },
     "execution_count": 59,
     "metadata": {},
     "output_type": "execute_result"
    },
    {
     "data": {
      "image/png": "[encoded data removed]",
      "text/plain": [
       "<Figure size 432x288 with 1 Axes>"
      ]
     },
     "metadata": {
      "needs_background": "light"
     },
     "output_type": "display_data"
    }
   ],
   "source": [
    "plt.scatter(df['Al'],df['Type of glass'])"
   ]
  },
  {
   "cell_type": "code",
   "execution_count": 60,
   "id": "958f33ad",
   "metadata": {},
   "outputs": [],
   "source": [
    "#Obervation : Data mainly present in points 0.5 to 2.0"
   ]
  },
  {
   "cell_type": "code",
   "execution_count": 61,
   "id": "50529b8b",
   "metadata": {},
   "outputs": [
    {
     "data": {
      "text/plain": [
       "<matplotlib.collections.PathCollection at 0x1b999a609a0>"
      ]
     },
     "execution_count": 61,
     "metadata": {},
     "output_type": "execute_result"
    },
    {
     "data": {
      "image/png": "[encoded data removed]",
      "text/plain": [
       "<Figure size 432x288 with 1 Axes>"
      ]
     },
     "metadata": {
      "needs_background": "light"
     },
     "output_type": "display_data"
    }
   ],
   "source": [
    "plt.scatter(df['Si'],df['Type of glass'])"
   ]
  },
  {
   "cell_type": "code",
   "execution_count": 62,
   "id": "6e1572f6",
   "metadata": {},
   "outputs": [],
   "source": [
    "#Obervation : Data mainly present in points 72 to 74"
   ]
  },
  {
   "cell_type": "code",
   "execution_count": 63,
   "id": "0df54554",
   "metadata": {},
   "outputs": [
    {
     "data": {
      "text/plain": [
       "<matplotlib.collections.PathCollection at 0x1b999ac7520>"
      ]
     },
     "execution_count": 63,
     "metadata": {},
     "output_type": "execute_result"
    },
    {
     "data": {
      "image/png": "[encoded data removed]",
      "text/plain": [
       "<Figure size 432x288 with 1 Axes>"
      ]
     },
     "metadata": {
      "needs_background": "light"
     },
     "output_type": "display_data"
    }
   ],
   "source": [
    "plt.scatter(df['K'],df['Type of glass'])"
   ]
  },
  {
   "cell_type": "code",
   "execution_count": 64,
   "id": "73fd1943",
   "metadata": {},
   "outputs": [],
   "source": [
    "#Obervation : Data mainly present in points 0 to 1"
   ]
  },
  {
   "cell_type": "code",
   "execution_count": 65,
   "id": "d030a92f",
   "metadata": {},
   "outputs": [
    {
     "data": {
      "text/plain": [
       "<matplotlib.collections.PathCollection at 0x1b999b29f70>"
      ]
     },
     "execution_count": 65,
     "metadata": {},
     "output_type": "execute_result"
    },
    {
     "data": {
      "image/png": "[encoded data removed]",
      "text/plain": [
       "<Figure size 432x288 with 1 Axes>"
      ]
     },
     "metadata": {
      "needs_background": "light"
     },
     "output_type": "display_data"
    }
   ],
   "source": [
    "plt.scatter(df['Ca'],df['Type of glass'])"
   ]
  },
  {
   "cell_type": "code",
   "execution_count": 66,
   "id": "f4686595",
   "metadata": {},
   "outputs": [],
   "source": [
    "#Obervation : Data mainly present in points 8 to 10"
   ]
  },
  {
   "cell_type": "code",
   "execution_count": 67,
   "id": "fb8b9d9a",
   "metadata": {},
   "outputs": [
    {
     "data": {
      "text/plain": [
       "<matplotlib.collections.PathCollection at 0x1b999b8d9a0>"
      ]
     },
     "execution_count": 67,
     "metadata": {},
     "output_type": "execute_result"
    },
    {
     "data": {
      "image/png": "[encoded data removed]",
      "text/plain": [
       "<Figure size 432x288 with 1 Axes>"
      ]
     },
     "metadata": {
      "needs_background": "light"
     },
     "output_type": "display_data"
    }
   ],
   "source": [
    "plt.scatter(df['Ba'],df['Type of glass'])"
   ]
  },
  {
   "cell_type": "code",
   "execution_count": 68,
   "id": "2ac20986",
   "metadata": {},
   "outputs": [],
   "source": [
    "#Obervation : Data mainly present in points 0.5 to 1.5"
   ]
  },
  {
   "cell_type": "code",
   "execution_count": 69,
   "id": "00c04110",
   "metadata": {},
   "outputs": [
    {
     "data": {
      "text/plain": [
       "<matplotlib.collections.PathCollection at 0x1b999bf6880>"
      ]
     },
     "execution_count": 69,
     "metadata": {},
     "output_type": "execute_result"
    },
    {
     "data": {
      "image/png": "[encoded data removed]",
      "text/plain": [
       "<Figure size 432x288 with 1 Axes>"
      ]
     },
     "metadata": {
      "needs_background": "light"
     },
     "output_type": "display_data"
    }
   ],
   "source": [
    "plt.scatter(df['Fe'],df['Type of glass'])"
   ]
  },
  {
   "cell_type": "code",
   "execution_count": 70,
   "id": "d245bc32",
   "metadata": {},
   "outputs": [],
   "source": [
    "#Obervation : Data mainly present in points 0.1 to 0.3"
   ]
  },
  {
   "cell_type": "markdown",
   "id": "592e9e49",
   "metadata": {},
   "source": [
    "#Multivariate Analysis\n",
    "\n",
    "Data Distribution among all columns"
   ]
  },
  {
   "cell_type": "code",
   "execution_count": 71,
   "id": "51ed5fb0",
   "metadata": {},
   "outputs": [
    {
     "data": {
      "image/png": "[encoded data removed]",
      "text/plain": [
       "<Figure size 1296x720 with 12 Axes>"
      ]
     },
     "metadata": {
      "needs_background": "light"
     },
     "output_type": "display_data"
    }
   ],
   "source": [
    "df.plot(kind='density',subplots=True,layout=(2,6),sharex=False,legend=True,figsize=(18,10))\n",
    "plt.show()"
   ]
  },
  {
   "cell_type": "code",
   "execution_count": 72,
   "id": "5a7e46aa",
   "metadata": {},
   "outputs": [],
   "source": [
    "#Observation : As datas are not perfectly well shaped curved,so have to remove skewness"
   ]
  },
  {
   "cell_type": "markdown",
   "id": "32076993",
   "metadata": {},
   "source": [
    "*Normalization of Target Variable"
   ]
  },
  {
   "cell_type": "code",
   "execution_count": 73,
   "id": "ef8ee66d",
   "metadata": {},
   "outputs": [
    {
     "data": {
      "text/plain": [
       "array([1, 2, 3, 5, 6, 7], dtype=int64)"
      ]
     },
     "execution_count": 73,
     "metadata": {},
     "output_type": "execute_result"
    }
   ],
   "source": [
    "df['Type of glass'].unique()"
   ]
  },
  {
   "cell_type": "code",
   "execution_count": 74,
   "id": "3546cc45",
   "metadata": {},
   "outputs": [
    {
     "data": {
      "text/plain": [
       "6"
      ]
     },
     "execution_count": 74,
     "metadata": {},
     "output_type": "execute_result"
    }
   ],
   "source": [
    "df['Type of glass'].nunique()"
   ]
  },
  {
   "cell_type": "code",
   "execution_count": 15,
   "id": "d6374e08",
   "metadata": {},
   "outputs": [
    {
     "data": {
      "text/plain": [
       "2    35.514019\n",
       "1    32.710280\n",
       "7    13.551402\n",
       "3     7.943925\n",
       "5     6.074766\n",
       "6     4.205607\n",
       "Name: Type of glass, dtype: float64"
      ]
     },
     "execution_count": 15,
     "metadata": {},
     "output_type": "execute_result"
    }
   ],
   "source": [
    "df['Type of glass'].value_counts(normalize=True)*100"
   ]
  },
  {
   "cell_type": "markdown",
   "id": "80c48cc3",
   "metadata": {},
   "source": [
    "As data is normalized now it is balanced data"
   ]
  },
  {
   "cell_type": "markdown",
   "id": "b51e47e2",
   "metadata": {},
   "source": [
    "Encoding is not required as no categorical data is there"
   ]
  },
  {
   "cell_type": "markdown",
   "id": "d9d1c909",
   "metadata": {},
   "source": [
    "# Checking Correlation"
   ]
  },
  {
   "cell_type": "code",
   "execution_count": 16,
   "id": "6f74ac6f",
   "metadata": {},
   "outputs": [
    {
     "data": {
      "text/html": [
       "<div>\n",
       "<style scoped>\n",
       "    .dataframe tbody tr th:only-of-type {\n",
       "        vertical-align: middle;\n",
       "    }\n",
       "\n",
       "    .dataframe tbody tr th {\n",
       "        vertical-align: top;\n",
       "    }\n",
       "\n",
       "    .dataframe thead th {\n",
       "        text-align: right;\n",
       "    }\n",
       "</style>\n",
       "<table border=\"1\" class=\"dataframe\">\n",
       "  <thead>\n",
       "    <tr style=\"text-align: right;\">\n",
       "      <th></th>\n",
       "      <th>Id number</th>\n",
       "      <th>RI</th>\n",
       "      <th>Na</th>\n",
       "      <th>Mg</th>\n",
       "      <th>Al</th>\n",
       "      <th>Si</th>\n",
       "      <th>K</th>\n",
       "      <th>Ca</th>\n",
       "      <th>Ba</th>\n",
       "      <th>Fe</th>\n",
       "      <th>Type of glass</th>\n",
       "    </tr>\n",
       "  </thead>\n",
       "  <tbody>\n",
       "    <tr>\n",
       "      <th>Id number</th>\n",
       "      <td>1.000000</td>\n",
       "      <td>-0.072209</td>\n",
       "      <td>0.375722</td>\n",
       "      <td>-0.650328</td>\n",
       "      <td>0.490113</td>\n",
       "      <td>0.061232</td>\n",
       "      <td>0.003149</td>\n",
       "      <td>0.090800</td>\n",
       "      <td>0.451001</td>\n",
       "      <td>-0.072794</td>\n",
       "      <td>0.877357</td>\n",
       "    </tr>\n",
       "    <tr>\n",
       "      <th>RI</th>\n",
       "      <td>-0.072209</td>\n",
       "      <td>1.000000</td>\n",
       "      <td>-0.191885</td>\n",
       "      <td>-0.122274</td>\n",
       "      <td>-0.407326</td>\n",
       "      <td>-0.542052</td>\n",
       "      <td>-0.289833</td>\n",
       "      <td>0.810403</td>\n",
       "      <td>-0.000386</td>\n",
       "      <td>0.143010</td>\n",
       "      <td>-0.164237</td>\n",
       "    </tr>\n",
       "    <tr>\n",
       "      <th>Na</th>\n",
       "      <td>0.375722</td>\n",
       "      <td>-0.191885</td>\n",
       "      <td>1.000000</td>\n",
       "      <td>-0.273732</td>\n",
       "      <td>0.156794</td>\n",
       "      <td>-0.069809</td>\n",
       "      <td>-0.266087</td>\n",
       "      <td>-0.275442</td>\n",
       "      <td>0.326603</td>\n",
       "      <td>-0.241346</td>\n",
       "      <td>0.502898</td>\n",
       "    </tr>\n",
       "    <tr>\n",
       "      <th>Mg</th>\n",
       "      <td>-0.650328</td>\n",
       "      <td>-0.122274</td>\n",
       "      <td>-0.273732</td>\n",
       "      <td>1.000000</td>\n",
       "      <td>-0.481799</td>\n",
       "      <td>-0.165927</td>\n",
       "      <td>0.005396</td>\n",
       "      <td>-0.443750</td>\n",
       "      <td>-0.492262</td>\n",
       "      <td>0.083060</td>\n",
       "      <td>-0.744993</td>\n",
       "    </tr>\n",
       "    <tr>\n",
       "      <th>Al</th>\n",
       "      <td>0.490113</td>\n",
       "      <td>-0.407326</td>\n",
       "      <td>0.156794</td>\n",
       "      <td>-0.481799</td>\n",
       "      <td>1.000000</td>\n",
       "      <td>-0.005524</td>\n",
       "      <td>0.325958</td>\n",
       "      <td>-0.259592</td>\n",
       "      <td>0.479404</td>\n",
       "      <td>-0.074402</td>\n",
       "      <td>0.598829</td>\n",
       "    </tr>\n",
       "    <tr>\n",
       "      <th>Si</th>\n",
       "      <td>0.061232</td>\n",
       "      <td>-0.542052</td>\n",
       "      <td>-0.069809</td>\n",
       "      <td>-0.165927</td>\n",
       "      <td>-0.005524</td>\n",
       "      <td>1.000000</td>\n",
       "      <td>-0.193331</td>\n",
       "      <td>-0.208732</td>\n",
       "      <td>-0.102151</td>\n",
       "      <td>-0.094201</td>\n",
       "      <td>0.151565</td>\n",
       "    </tr>\n",
       "    <tr>\n",
       "      <th>K</th>\n",
       "      <td>0.003149</td>\n",
       "      <td>-0.289833</td>\n",
       "      <td>-0.266087</td>\n",
       "      <td>0.005396</td>\n",
       "      <td>0.325958</td>\n",
       "      <td>-0.193331</td>\n",
       "      <td>1.000000</td>\n",
       "      <td>-0.317836</td>\n",
       "      <td>-0.042618</td>\n",
       "      <td>-0.007719</td>\n",
       "      <td>-0.010054</td>\n",
       "    </tr>\n",
       "    <tr>\n",
       "      <th>Ca</th>\n",
       "      <td>0.090800</td>\n",
       "      <td>0.810403</td>\n",
       "      <td>-0.275442</td>\n",
       "      <td>-0.443750</td>\n",
       "      <td>-0.259592</td>\n",
       "      <td>-0.208732</td>\n",
       "      <td>-0.317836</td>\n",
       "      <td>1.000000</td>\n",
       "      <td>-0.112841</td>\n",
       "      <td>0.124968</td>\n",
       "      <td>0.000952</td>\n",
       "    </tr>\n",
       "    <tr>\n",
       "      <th>Ba</th>\n",
       "      <td>0.451001</td>\n",
       "      <td>-0.000386</td>\n",
       "      <td>0.326603</td>\n",
       "      <td>-0.492262</td>\n",
       "      <td>0.479404</td>\n",
       "      <td>-0.102151</td>\n",
       "      <td>-0.042618</td>\n",
       "      <td>-0.112841</td>\n",
       "      <td>1.000000</td>\n",
       "      <td>-0.058692</td>\n",
       "      <td>0.575161</td>\n",
       "    </tr>\n",
       "    <tr>\n",
       "      <th>Fe</th>\n",
       "      <td>-0.072794</td>\n",
       "      <td>0.143010</td>\n",
       "      <td>-0.241346</td>\n",
       "      <td>0.083060</td>\n",
       "      <td>-0.074402</td>\n",
       "      <td>-0.094201</td>\n",
       "      <td>-0.007719</td>\n",
       "      <td>0.124968</td>\n",
       "      <td>-0.058692</td>\n",
       "      <td>1.000000</td>\n",
       "      <td>-0.188278</td>\n",
       "    </tr>\n",
       "    <tr>\n",
       "      <th>Type of glass</th>\n",
       "      <td>0.877357</td>\n",
       "      <td>-0.164237</td>\n",
       "      <td>0.502898</td>\n",
       "      <td>-0.744993</td>\n",
       "      <td>0.598829</td>\n",
       "      <td>0.151565</td>\n",
       "      <td>-0.010054</td>\n",
       "      <td>0.000952</td>\n",
       "      <td>0.575161</td>\n",
       "      <td>-0.188278</td>\n",
       "      <td>1.000000</td>\n",
       "    </tr>\n",
       "  </tbody>\n",
       "</table>\n",
       "</div>"
      ],
      "text/plain": [
       "               Id number        RI        Na        Mg        Al        Si  \\\n",
       "Id number       1.000000 -0.072209  0.375722 -0.650328  0.490113  0.061232   \n",
       "RI             -0.072209  1.000000 -0.191885 -0.122274 -0.407326 -0.542052   \n",
       "Na              0.375722 -0.191885  1.000000 -0.273732  0.156794 -0.069809   \n",
       "Mg             -0.650328 -0.122274 -0.273732  1.000000 -0.481799 -0.165927   \n",
       "Al              0.490113 -0.407326  0.156794 -0.481799  1.000000 -0.005524   \n",
       "Si              0.061232 -0.542052 -0.069809 -0.165927 -0.005524  1.000000   \n",
       "K               0.003149 -0.289833 -0.266087  0.005396  0.325958 -0.193331   \n",
       "Ca              0.090800  0.810403 -0.275442 -0.443750 -0.259592 -0.208732   \n",
       "Ba              0.451001 -0.000386  0.326603 -0.492262  0.479404 -0.102151   \n",
       "Fe             -0.072794  0.143010 -0.241346  0.083060 -0.074402 -0.094201   \n",
       "Type of glass   0.877357 -0.164237  0.502898 -0.744993  0.598829  0.151565   \n",
       "\n",
       "                      K        Ca        Ba        Fe  Type of glass  \n",
       "Id number      0.003149  0.090800  0.451001 -0.072794       0.877357  \n",
       "RI            -0.289833  0.810403 -0.000386  0.143010      -0.164237  \n",
       "Na            -0.266087 -0.275442  0.326603 -0.241346       0.502898  \n",
       "Mg             0.005396 -0.443750 -0.492262  0.083060      -0.744993  \n",
       "Al             0.325958 -0.259592  0.479404 -0.074402       0.598829  \n",
       "Si            -0.193331 -0.208732 -0.102151 -0.094201       0.151565  \n",
       "K              1.000000 -0.317836 -0.042618 -0.007719      -0.010054  \n",
       "Ca            -0.317836  1.000000 -0.112841  0.124968       0.000952  \n",
       "Ba            -0.042618 -0.112841  1.000000 -0.058692       0.575161  \n",
       "Fe            -0.007719  0.124968 -0.058692  1.000000      -0.188278  \n",
       "Type of glass -0.010054  0.000952  0.575161 -0.188278       1.000000  "
      ]
     },
     "execution_count": 16,
     "metadata": {},
     "output_type": "execute_result"
    }
   ],
   "source": [
    "df.corr()"
   ]
  },
  {
   "cell_type": "markdown",
   "id": "2be052dd",
   "metadata": {},
   "source": [
    "Heatmap of Correlation"
   ]
  },
  {
   "cell_type": "code",
   "execution_count": 17,
   "id": "4244f905",
   "metadata": {},
   "outputs": [
    {
     "data": {
      "image/png": "[encoded data removed]",
      "text/plain": [
       "<Figure size 1080x720 with 2 Axes>"
      ]
     },
     "metadata": {
      "needs_background": "light"
     },
     "output_type": "display_data"
    }
   ],
   "source": [
    "corr_mat=df.corr()\n",
    "plt.figure(figsize=[15,10])\n",
    "sns.heatmap(corr_mat,annot=True,linewidth=0.5,linecolor='pink')\n",
    "plt.title('Glass Data')\n",
    "plt.show()"
   ]
  },
  {
   "cell_type": "markdown",
   "id": "c1bd0dec",
   "metadata": {},
   "source": [
    "*Observation : Target Variable has very good bond with Id Number as highly correlated\n",
    "\n",
    "Very high Muticollinerity(>0.6) present between Ca and RI so will drop column Ca as it have less correlation with Target Variable"
   ]
  },
  {
   "cell_type": "code",
   "execution_count": 18,
   "id": "015c1cc1",
   "metadata": {},
   "outputs": [
    {
     "data": {
      "text/html": [
       "<div>\n",
       "<style scoped>\n",
       "    .dataframe tbody tr th:only-of-type {\n",
       "        vertical-align: middle;\n",
       "    }\n",
       "\n",
       "    .dataframe tbody tr th {\n",
       "        vertical-align: top;\n",
       "    }\n",
       "\n",
       "    .dataframe thead th {\n",
       "        text-align: right;\n",
       "    }\n",
       "</style>\n",
       "<table border=\"1\" class=\"dataframe\">\n",
       "  <thead>\n",
       "    <tr style=\"text-align: right;\">\n",
       "      <th></th>\n",
       "      <th>Id number</th>\n",
       "      <th>RI</th>\n",
       "      <th>Na</th>\n",
       "      <th>Mg</th>\n",
       "      <th>Al</th>\n",
       "      <th>Si</th>\n",
       "      <th>K</th>\n",
       "      <th>Ba</th>\n",
       "      <th>Fe</th>\n",
       "      <th>Type of glass</th>\n",
       "    </tr>\n",
       "  </thead>\n",
       "  <tbody>\n",
       "    <tr>\n",
       "      <th>0</th>\n",
       "      <td>1</td>\n",
       "      <td>1.52101</td>\n",
       "      <td>13.64</td>\n",
       "      <td>4.49</td>\n",
       "      <td>1.10</td>\n",
       "      <td>71.78</td>\n",
       "      <td>0.06</td>\n",
       "      <td>0.00</td>\n",
       "      <td>0.0</td>\n",
       "      <td>1</td>\n",
       "    </tr>\n",
       "    <tr>\n",
       "      <th>1</th>\n",
       "      <td>2</td>\n",
       "      <td>1.51761</td>\n",
       "      <td>13.89</td>\n",
       "      <td>3.60</td>\n",
       "      <td>1.36</td>\n",
       "      <td>72.73</td>\n",
       "      <td>0.48</td>\n",
       "      <td>0.00</td>\n",
       "      <td>0.0</td>\n",
       "      <td>1</td>\n",
       "    </tr>\n",
       "    <tr>\n",
       "      <th>2</th>\n",
       "      <td>3</td>\n",
       "      <td>1.51618</td>\n",
       "      <td>13.53</td>\n",
       "      <td>3.55</td>\n",
       "      <td>1.54</td>\n",
       "      <td>72.99</td>\n",
       "      <td>0.39</td>\n",
       "      <td>0.00</td>\n",
       "      <td>0.0</td>\n",
       "      <td>1</td>\n",
       "    </tr>\n",
       "    <tr>\n",
       "      <th>3</th>\n",
       "      <td>4</td>\n",
       "      <td>1.51766</td>\n",
       "      <td>13.21</td>\n",
       "      <td>3.69</td>\n",
       "      <td>1.29</td>\n",
       "      <td>72.61</td>\n",
       "      <td>0.57</td>\n",
       "      <td>0.00</td>\n",
       "      <td>0.0</td>\n",
       "      <td>1</td>\n",
       "    </tr>\n",
       "    <tr>\n",
       "      <th>4</th>\n",
       "      <td>5</td>\n",
       "      <td>1.51742</td>\n",
       "      <td>13.27</td>\n",
       "      <td>3.62</td>\n",
       "      <td>1.24</td>\n",
       "      <td>73.08</td>\n",
       "      <td>0.55</td>\n",
       "      <td>0.00</td>\n",
       "      <td>0.0</td>\n",
       "      <td>1</td>\n",
       "    </tr>\n",
       "    <tr>\n",
       "      <th>...</th>\n",
       "      <td>...</td>\n",
       "      <td>...</td>\n",
       "      <td>...</td>\n",
       "      <td>...</td>\n",
       "      <td>...</td>\n",
       "      <td>...</td>\n",
       "      <td>...</td>\n",
       "      <td>...</td>\n",
       "      <td>...</td>\n",
       "      <td>...</td>\n",
       "    </tr>\n",
       "    <tr>\n",
       "      <th>209</th>\n",
       "      <td>210</td>\n",
       "      <td>1.51623</td>\n",
       "      <td>14.14</td>\n",
       "      <td>0.00</td>\n",
       "      <td>2.88</td>\n",
       "      <td>72.61</td>\n",
       "      <td>0.08</td>\n",
       "      <td>1.06</td>\n",
       "      <td>0.0</td>\n",
       "      <td>7</td>\n",
       "    </tr>\n",
       "    <tr>\n",
       "      <th>210</th>\n",
       "      <td>211</td>\n",
       "      <td>1.51685</td>\n",
       "      <td>14.92</td>\n",
       "      <td>0.00</td>\n",
       "      <td>1.99</td>\n",
       "      <td>73.06</td>\n",
       "      <td>0.00</td>\n",
       "      <td>1.59</td>\n",
       "      <td>0.0</td>\n",
       "      <td>7</td>\n",
       "    </tr>\n",
       "    <tr>\n",
       "      <th>211</th>\n",
       "      <td>212</td>\n",
       "      <td>1.52065</td>\n",
       "      <td>14.36</td>\n",
       "      <td>0.00</td>\n",
       "      <td>2.02</td>\n",
       "      <td>73.42</td>\n",
       "      <td>0.00</td>\n",
       "      <td>1.64</td>\n",
       "      <td>0.0</td>\n",
       "      <td>7</td>\n",
       "    </tr>\n",
       "    <tr>\n",
       "      <th>212</th>\n",
       "      <td>213</td>\n",
       "      <td>1.51651</td>\n",
       "      <td>14.38</td>\n",
       "      <td>0.00</td>\n",
       "      <td>1.94</td>\n",
       "      <td>73.61</td>\n",
       "      <td>0.00</td>\n",
       "      <td>1.57</td>\n",
       "      <td>0.0</td>\n",
       "      <td>7</td>\n",
       "    </tr>\n",
       "    <tr>\n",
       "      <th>213</th>\n",
       "      <td>214</td>\n",
       "      <td>1.51711</td>\n",
       "      <td>14.23</td>\n",
       "      <td>0.00</td>\n",
       "      <td>2.08</td>\n",
       "      <td>73.36</td>\n",
       "      <td>0.00</td>\n",
       "      <td>1.67</td>\n",
       "      <td>0.0</td>\n",
       "      <td>7</td>\n",
       "    </tr>\n",
       "  </tbody>\n",
       "</table>\n",
       "<p>214 rows × 10 columns</p>\n",
       "</div>"
      ],
      "text/plain": [
       "     Id number       RI     Na    Mg    Al     Si     K    Ba   Fe  \\\n",
       "0            1  1.52101  13.64  4.49  1.10  71.78  0.06  0.00  0.0   \n",
       "1            2  1.51761  13.89  3.60  1.36  72.73  0.48  0.00  0.0   \n",
       "2            3  1.51618  13.53  3.55  1.54  72.99  0.39  0.00  0.0   \n",
       "3            4  1.51766  13.21  3.69  1.29  72.61  0.57  0.00  0.0   \n",
       "4            5  1.51742  13.27  3.62  1.24  73.08  0.55  0.00  0.0   \n",
       "..         ...      ...    ...   ...   ...    ...   ...   ...  ...   \n",
       "209        210  1.51623  14.14  0.00  2.88  72.61  0.08  1.06  0.0   \n",
       "210        211  1.51685  14.92  0.00  1.99  73.06  0.00  1.59  0.0   \n",
       "211        212  1.52065  14.36  0.00  2.02  73.42  0.00  1.64  0.0   \n",
       "212        213  1.51651  14.38  0.00  1.94  73.61  0.00  1.57  0.0   \n",
       "213        214  1.51711  14.23  0.00  2.08  73.36  0.00  1.67  0.0   \n",
       "\n",
       "     Type of glass  \n",
       "0                1  \n",
       "1                1  \n",
       "2                1  \n",
       "3                1  \n",
       "4                1  \n",
       "..             ...  \n",
       "209              7  \n",
       "210              7  \n",
       "211              7  \n",
       "212              7  \n",
       "213              7  \n",
       "\n",
       "[214 rows x 10 columns]"
      ]
     },
     "execution_count": 18,
     "metadata": {},
     "output_type": "execute_result"
    }
   ],
   "source": [
    "df=df.drop(['Ca'],axis=1)\n",
    "df"
   ]
  },
  {
   "cell_type": "markdown",
   "id": "45ecb27b",
   "metadata": {},
   "source": [
    "# Preprocessing"
   ]
  },
  {
   "cell_type": "markdown",
   "id": "23d98083",
   "metadata": {},
   "source": [
    "Split x and y data before skewness"
   ]
  },
  {
   "cell_type": "code",
   "execution_count": 19,
   "id": "9466d18d",
   "metadata": {},
   "outputs": [],
   "source": [
    "x=df.iloc[:,:-1]\n",
    "y=df.iloc[:,-1]"
   ]
  },
  {
   "cell_type": "code",
   "execution_count": 20,
   "id": "37b50980",
   "metadata": {},
   "outputs": [
    {
     "data": {
      "text/html": [
       "<div>\n",
       "<style scoped>\n",
       "    .dataframe tbody tr th:only-of-type {\n",
       "        vertical-align: middle;\n",
       "    }\n",
       "\n",
       "    .dataframe tbody tr th {\n",
       "        vertical-align: top;\n",
       "    }\n",
       "\n",
       "    .dataframe thead th {\n",
       "        text-align: right;\n",
       "    }\n",
       "</style>\n",
       "<table border=\"1\" class=\"dataframe\">\n",
       "  <thead>\n",
       "    <tr style=\"text-align: right;\">\n",
       "      <th></th>\n",
       "      <th>Id number</th>\n",
       "      <th>RI</th>\n",
       "      <th>Na</th>\n",
       "      <th>Mg</th>\n",
       "      <th>Al</th>\n",
       "      <th>Si</th>\n",
       "      <th>K</th>\n",
       "      <th>Ba</th>\n",
       "      <th>Fe</th>\n",
       "    </tr>\n",
       "  </thead>\n",
       "  <tbody>\n",
       "    <tr>\n",
       "      <th>0</th>\n",
       "      <td>1</td>\n",
       "      <td>1.52101</td>\n",
       "      <td>13.64</td>\n",
       "      <td>4.49</td>\n",
       "      <td>1.10</td>\n",
       "      <td>71.78</td>\n",
       "      <td>0.06</td>\n",
       "      <td>0.00</td>\n",
       "      <td>0.0</td>\n",
       "    </tr>\n",
       "    <tr>\n",
       "      <th>1</th>\n",
       "      <td>2</td>\n",
       "      <td>1.51761</td>\n",
       "      <td>13.89</td>\n",
       "      <td>3.60</td>\n",
       "      <td>1.36</td>\n",
       "      <td>72.73</td>\n",
       "      <td>0.48</td>\n",
       "      <td>0.00</td>\n",
       "      <td>0.0</td>\n",
       "    </tr>\n",
       "    <tr>\n",
       "      <th>2</th>\n",
       "      <td>3</td>\n",
       "      <td>1.51618</td>\n",
       "      <td>13.53</td>\n",
       "      <td>3.55</td>\n",
       "      <td>1.54</td>\n",
       "      <td>72.99</td>\n",
       "      <td>0.39</td>\n",
       "      <td>0.00</td>\n",
       "      <td>0.0</td>\n",
       "    </tr>\n",
       "    <tr>\n",
       "      <th>3</th>\n",
       "      <td>4</td>\n",
       "      <td>1.51766</td>\n",
       "      <td>13.21</td>\n",
       "      <td>3.69</td>\n",
       "      <td>1.29</td>\n",
       "      <td>72.61</td>\n",
       "      <td>0.57</td>\n",
       "      <td>0.00</td>\n",
       "      <td>0.0</td>\n",
       "    </tr>\n",
       "    <tr>\n",
       "      <th>4</th>\n",
       "      <td>5</td>\n",
       "      <td>1.51742</td>\n",
       "      <td>13.27</td>\n",
       "      <td>3.62</td>\n",
       "      <td>1.24</td>\n",
       "      <td>73.08</td>\n",
       "      <td>0.55</td>\n",
       "      <td>0.00</td>\n",
       "      <td>0.0</td>\n",
       "    </tr>\n",
       "    <tr>\n",
       "      <th>...</th>\n",
       "      <td>...</td>\n",
       "      <td>...</td>\n",
       "      <td>...</td>\n",
       "      <td>...</td>\n",
       "      <td>...</td>\n",
       "      <td>...</td>\n",
       "      <td>...</td>\n",
       "      <td>...</td>\n",
       "      <td>...</td>\n",
       "    </tr>\n",
       "    <tr>\n",
       "      <th>209</th>\n",
       "      <td>210</td>\n",
       "      <td>1.51623</td>\n",
       "      <td>14.14</td>\n",
       "      <td>0.00</td>\n",
       "      <td>2.88</td>\n",
       "      <td>72.61</td>\n",
       "      <td>0.08</td>\n",
       "      <td>1.06</td>\n",
       "      <td>0.0</td>\n",
       "    </tr>\n",
       "    <tr>\n",
       "      <th>210</th>\n",
       "      <td>211</td>\n",
       "      <td>1.51685</td>\n",
       "      <td>14.92</td>\n",
       "      <td>0.00</td>\n",
       "      <td>1.99</td>\n",
       "      <td>73.06</td>\n",
       "      <td>0.00</td>\n",
       "      <td>1.59</td>\n",
       "      <td>0.0</td>\n",
       "    </tr>\n",
       "    <tr>\n",
       "      <th>211</th>\n",
       "      <td>212</td>\n",
       "      <td>1.52065</td>\n",
       "      <td>14.36</td>\n",
       "      <td>0.00</td>\n",
       "      <td>2.02</td>\n",
       "      <td>73.42</td>\n",
       "      <td>0.00</td>\n",
       "      <td>1.64</td>\n",
       "      <td>0.0</td>\n",
       "    </tr>\n",
       "    <tr>\n",
       "      <th>212</th>\n",
       "      <td>213</td>\n",
       "      <td>1.51651</td>\n",
       "      <td>14.38</td>\n",
       "      <td>0.00</td>\n",
       "      <td>1.94</td>\n",
       "      <td>73.61</td>\n",
       "      <td>0.00</td>\n",
       "      <td>1.57</td>\n",
       "      <td>0.0</td>\n",
       "    </tr>\n",
       "    <tr>\n",
       "      <th>213</th>\n",
       "      <td>214</td>\n",
       "      <td>1.51711</td>\n",
       "      <td>14.23</td>\n",
       "      <td>0.00</td>\n",
       "      <td>2.08</td>\n",
       "      <td>73.36</td>\n",
       "      <td>0.00</td>\n",
       "      <td>1.67</td>\n",
       "      <td>0.0</td>\n",
       "    </tr>\n",
       "  </tbody>\n",
       "</table>\n",
       "<p>214 rows × 9 columns</p>\n",
       "</div>"
      ],
      "text/plain": [
       "     Id number       RI     Na    Mg    Al     Si     K    Ba   Fe\n",
       "0            1  1.52101  13.64  4.49  1.10  71.78  0.06  0.00  0.0\n",
       "1            2  1.51761  13.89  3.60  1.36  72.73  0.48  0.00  0.0\n",
       "2            3  1.51618  13.53  3.55  1.54  72.99  0.39  0.00  0.0\n",
       "3            4  1.51766  13.21  3.69  1.29  72.61  0.57  0.00  0.0\n",
       "4            5  1.51742  13.27  3.62  1.24  73.08  0.55  0.00  0.0\n",
       "..         ...      ...    ...   ...   ...    ...   ...   ...  ...\n",
       "209        210  1.51623  14.14  0.00  2.88  72.61  0.08  1.06  0.0\n",
       "210        211  1.51685  14.92  0.00  1.99  73.06  0.00  1.59  0.0\n",
       "211        212  1.52065  14.36  0.00  2.02  73.42  0.00  1.64  0.0\n",
       "212        213  1.51651  14.38  0.00  1.94  73.61  0.00  1.57  0.0\n",
       "213        214  1.51711  14.23  0.00  2.08  73.36  0.00  1.67  0.0\n",
       "\n",
       "[214 rows x 9 columns]"
      ]
     },
     "execution_count": 20,
     "metadata": {},
     "output_type": "execute_result"
    }
   ],
   "source": [
    "x"
   ]
  },
  {
   "cell_type": "code",
   "execution_count": 21,
   "id": "b5273751",
   "metadata": {},
   "outputs": [
    {
     "data": {
      "text/plain": [
       "0      1\n",
       "1      1\n",
       "2      1\n",
       "3      1\n",
       "4      1\n",
       "      ..\n",
       "209    7\n",
       "210    7\n",
       "211    7\n",
       "212    7\n",
       "213    7\n",
       "Name: Type of glass, Length: 214, dtype: int64"
      ]
     },
     "execution_count": 21,
     "metadata": {},
     "output_type": "execute_result"
    }
   ],
   "source": [
    "y"
   ]
  },
  {
   "cell_type": "markdown",
   "id": "8097b716",
   "metadata": {},
   "source": [
    "Checking Skewness"
   ]
  },
  {
   "cell_type": "code",
   "execution_count": 22,
   "id": "ba6c8011",
   "metadata": {},
   "outputs": [
    {
     "data": {
      "text/plain": [
       "K            6.551648\n",
       "Ba           3.416425\n",
       "Fe           1.754327\n",
       "RI           1.625431\n",
       "Al           0.907290\n",
       "Na           0.454181\n",
       "Id number    0.000000\n",
       "Si          -0.730447\n",
       "Mg          -1.152559\n",
       "dtype: float64"
      ]
     },
     "execution_count": 22,
     "metadata": {},
     "output_type": "execute_result"
    }
   ],
   "source": [
    "x.skew().sort_values(ascending=False)"
   ]
  },
  {
   "cell_type": "markdown",
   "id": "45b87f3f",
   "metadata": {},
   "source": [
    "Remove Skewness - apply power transformation"
   ]
  },
  {
   "cell_type": "code",
   "execution_count": 23,
   "id": "6a394efd",
   "metadata": {},
   "outputs": [
    {
     "data": {
      "text/plain": [
       "array([[-2.08369910e+00,  7.28583860e-17,  3.17060798e-01, ...,\n",
       "        -1.28978113e+00, -4.54889520e-01, -6.80014920e-01],\n",
       "       [-2.03941061e+00, -2.08166817e-17,  6.16576805e-01, ...,\n",
       "         2.74843168e-01, -4.54889520e-01, -6.80014920e-01],\n",
       "       [-1.99917168e+00, -5.89805982e-17,  1.83344458e-01, ...,\n",
       "         1.85652147e-02, -4.54889520e-01, -6.80014920e-01],\n",
       "       ...,\n",
       "       [ 1.53407895e+00,  6.59194921e-17,  1.16383548e+00, ...,\n",
       "        -1.61958514e+00,  2.37684792e+00, -6.80014920e-01],\n",
       "       [ 1.54671746e+00, -4.85722573e-17,  1.18668078e+00, ...,\n",
       "        -1.61958514e+00,  2.37663774e+00, -6.80014920e-01],\n",
       "       [ 1.55933935e+00, -3.46944695e-17,  1.01447527e+00, ...,\n",
       "        -1.61958514e+00,  2.37692310e+00, -6.80014920e-01]])"
      ]
     },
     "execution_count": 23,
     "metadata": {},
     "output_type": "execute_result"
    }
   ],
   "source": [
    "from sklearn.preprocessing import power_transform\n",
    "x_new=power_transform(x,method='yeo-johnson')\n",
    "x_new"
   ]
  },
  {
   "cell_type": "markdown",
   "id": "65d7f66d",
   "metadata": {},
   "source": [
    "after transformation check skewness"
   ]
  },
  {
   "cell_type": "code",
   "execution_count": 24,
   "id": "f872090f",
   "metadata": {},
   "outputs": [],
   "source": [
    "x=pd.DataFrame(x_new,columns=x.columns)                                        #convert transformed data into DataFrame"
   ]
  },
  {
   "cell_type": "code",
   "execution_count": 25,
   "id": "bba7f21a",
   "metadata": {},
   "outputs": [
    {
     "data": {
      "text/plain": [
       "Ba           1.824175\n",
       "Fe           0.858508\n",
       "Si           0.130384\n",
       "Al           0.000219\n",
       "RI           0.000000\n",
       "Na          -0.008973\n",
       "K           -0.071816\n",
       "Id number   -0.269261\n",
       "Mg          -0.889528\n",
       "dtype: float64"
      ]
     },
     "execution_count": 25,
     "metadata": {},
     "output_type": "execute_result"
    }
   ],
   "source": [
    "x.skew().sort_values(ascending=False)"
   ]
  },
  {
   "cell_type": "code",
   "execution_count": 26,
   "id": "65bb8ef4",
   "metadata": {},
   "outputs": [],
   "source": [
    "from sklearn.preprocessing import PowerTransformer \n",
    "trans=PowerTransformer(method='yeo-johnson')"
   ]
  },
  {
   "cell_type": "code",
   "execution_count": 27,
   "id": "ff1c9680",
   "metadata": {},
   "outputs": [
    {
     "data": {
      "text/plain": [
       "Ba           1.699969\n",
       "Fe           0.767509\n",
       "Si           0.130384\n",
       "Al           0.000219\n",
       "RI           0.000000\n",
       "Na          -0.008973\n",
       "K           -0.071816\n",
       "Mg          -0.113743\n",
       "Id number   -0.269261\n",
       "dtype: float64"
      ]
     },
     "execution_count": 27,
     "metadata": {},
     "output_type": "execute_result"
    }
   ],
   "source": [
    "x[['Ba','Fe','Mg']]=trans.fit_transform(x[['Ba','Fe','Mg']].values)\n",
    "x.skew().sort_values(ascending=False)"
   ]
  },
  {
   "cell_type": "markdown",
   "id": "37f2b7a8",
   "metadata": {},
   "source": [
    "*Observation : As data is distributed normally to much extent in range of (-0.0 to +0.7) except Ba. We can do scaling"
   ]
  },
  {
   "cell_type": "markdown",
   "id": "981d3538",
   "metadata": {},
   "source": [
    "# Scaling"
   ]
  },
  {
   "cell_type": "code",
   "execution_count": 28,
   "id": "8bf22ea0",
   "metadata": {},
   "outputs": [
    {
     "data": {
      "text/plain": [
       "array([[-2.0836991 ,  0.90773649,  0.3170608 , ..., -1.28978113,\n",
       "        -0.46462511, -0.69331703],\n",
       "       [-2.03941061, -0.25727938,  0.6165768 , ...,  0.27484317,\n",
       "        -0.46462511, -0.69331703],\n",
       "       [-1.99917168, -0.73191547,  0.18334446, ...,  0.01856521,\n",
       "        -0.46462511, -0.69331703],\n",
       "       ...,\n",
       "       [ 1.53407895,  0.82143902,  1.16383548, ..., -1.61958514,\n",
       "         2.16474399, -0.69331703],\n",
       "       [ 1.54671746, -0.60246927,  1.18668078, ..., -1.61958514,\n",
       "         2.16474021, -0.69331703],\n",
       "       [ 1.55933935, -0.42987432,  1.01447527, ..., -1.61958514,\n",
       "         2.16474534, -0.69331703]])"
      ]
     },
     "execution_count": 28,
     "metadata": {},
     "output_type": "execute_result"
    }
   ],
   "source": [
    "from sklearn.preprocessing import StandardScaler\n",
    "sc=StandardScaler()\n",
    "x1=sc.fit_transform(x)\n",
    "x1"
   ]
  },
  {
   "cell_type": "code",
   "execution_count": 29,
   "id": "e95b002b",
   "metadata": {},
   "outputs": [],
   "source": [
    "x=pd.DataFrame(x1,columns=x.columns)"
   ]
  },
  {
   "cell_type": "markdown",
   "id": "30e98efa",
   "metadata": {},
   "source": [
    "Multicollinearity Check\n",
    "VIF Technique"
   ]
  },
  {
   "cell_type": "code",
   "execution_count": 30,
   "id": "c93f8590",
   "metadata": {},
   "outputs": [
    {
     "data": {
      "text/html": [
       "<div>\n",
       "<style scoped>\n",
       "    .dataframe tbody tr th:only-of-type {\n",
       "        vertical-align: middle;\n",
       "    }\n",
       "\n",
       "    .dataframe tbody tr th {\n",
       "        vertical-align: top;\n",
       "    }\n",
       "\n",
       "    .dataframe thead th {\n",
       "        text-align: right;\n",
       "    }\n",
       "</style>\n",
       "<table border=\"1\" class=\"dataframe\">\n",
       "  <thead>\n",
       "    <tr style=\"text-align: right;\">\n",
       "      <th></th>\n",
       "      <th>Id number</th>\n",
       "      <th>RI</th>\n",
       "      <th>Na</th>\n",
       "      <th>Mg</th>\n",
       "      <th>Al</th>\n",
       "      <th>Si</th>\n",
       "      <th>K</th>\n",
       "      <th>Ba</th>\n",
       "      <th>Fe</th>\n",
       "    </tr>\n",
       "  </thead>\n",
       "  <tbody>\n",
       "    <tr>\n",
       "      <th>0</th>\n",
       "      <td>-2.083699</td>\n",
       "      <td>0.907736</td>\n",
       "      <td>0.317061</td>\n",
       "      <td>4.089663</td>\n",
       "      <td>-0.662630</td>\n",
       "      <td>-1.138642</td>\n",
       "      <td>-1.289781</td>\n",
       "      <td>-0.464625</td>\n",
       "      <td>-0.693317</td>\n",
       "    </tr>\n",
       "    <tr>\n",
       "      <th>1</th>\n",
       "      <td>-2.039411</td>\n",
       "      <td>-0.257279</td>\n",
       "      <td>0.616577</td>\n",
       "      <td>0.635322</td>\n",
       "      <td>-0.077498</td>\n",
       "      <td>0.044314</td>\n",
       "      <td>0.274843</td>\n",
       "      <td>-0.464625</td>\n",
       "      <td>-0.693317</td>\n",
       "    </tr>\n",
       "    <tr>\n",
       "      <th>2</th>\n",
       "      <td>-1.999172</td>\n",
       "      <td>-0.731915</td>\n",
       "      <td>0.183344</td>\n",
       "      <td>0.516403</td>\n",
       "      <td>0.291075</td>\n",
       "      <td>0.400267</td>\n",
       "      <td>0.018565</td>\n",
       "      <td>-0.464625</td>\n",
       "      <td>-0.693317</td>\n",
       "    </tr>\n",
       "    <tr>\n",
       "      <th>3</th>\n",
       "      <td>-1.961699</td>\n",
       "      <td>-0.214131</td>\n",
       "      <td>-0.212585</td>\n",
       "      <td>0.866193</td>\n",
       "      <td>-0.228458</td>\n",
       "      <td>-0.115117</td>\n",
       "      <td>0.501963</td>\n",
       "      <td>-0.464625</td>\n",
       "      <td>-0.693317</td>\n",
       "    </tr>\n",
       "    <tr>\n",
       "      <th>4</th>\n",
       "      <td>-1.926292</td>\n",
       "      <td>-0.300428</td>\n",
       "      <td>-0.137547</td>\n",
       "      <td>0.684728</td>\n",
       "      <td>-0.339129</td>\n",
       "      <td>0.526911</td>\n",
       "      <td>0.453753</td>\n",
       "      <td>-0.464625</td>\n",
       "      <td>-0.693317</td>\n",
       "    </tr>\n",
       "    <tr>\n",
       "      <th>...</th>\n",
       "      <td>...</td>\n",
       "      <td>...</td>\n",
       "      <td>...</td>\n",
       "      <td>...</td>\n",
       "      <td>...</td>\n",
       "      <td>...</td>\n",
       "      <td>...</td>\n",
       "      <td>...</td>\n",
       "      <td>...</td>\n",
       "    </tr>\n",
       "    <tr>\n",
       "      <th>209</th>\n",
       "      <td>1.508752</td>\n",
       "      <td>-0.688767</td>\n",
       "      <td>0.910183</td>\n",
       "      <td>-1.495259</td>\n",
       "      <td>2.417217</td>\n",
       "      <td>-0.115117</td>\n",
       "      <td>-1.187926</td>\n",
       "      <td>2.164639</td>\n",
       "      <td>-0.693317</td>\n",
       "    </tr>\n",
       "    <tr>\n",
       "      <th>210</th>\n",
       "      <td>1.521424</td>\n",
       "      <td>-0.516172</td>\n",
       "      <td>1.790505</td>\n",
       "      <td>-1.495259</td>\n",
       "      <td>1.109283</td>\n",
       "      <td>0.498613</td>\n",
       "      <td>-1.619585</td>\n",
       "      <td>2.164741</td>\n",
       "      <td>-0.693317</td>\n",
       "    </tr>\n",
       "    <tr>\n",
       "      <th>211</th>\n",
       "      <td>1.534079</td>\n",
       "      <td>0.821439</td>\n",
       "      <td>1.163835</td>\n",
       "      <td>-1.495259</td>\n",
       "      <td>1.159377</td>\n",
       "      <td>1.021794</td>\n",
       "      <td>-1.619585</td>\n",
       "      <td>2.164744</td>\n",
       "      <td>-0.693317</td>\n",
       "    </tr>\n",
       "    <tr>\n",
       "      <th>212</th>\n",
       "      <td>1.546717</td>\n",
       "      <td>-0.602469</td>\n",
       "      <td>1.186681</td>\n",
       "      <td>-1.495259</td>\n",
       "      <td>1.024669</td>\n",
       "      <td>1.310019</td>\n",
       "      <td>-1.619585</td>\n",
       "      <td>2.164740</td>\n",
       "      <td>-0.693317</td>\n",
       "    </tr>\n",
       "    <tr>\n",
       "      <th>213</th>\n",
       "      <td>1.559339</td>\n",
       "      <td>-0.429874</td>\n",
       "      <td>1.014475</td>\n",
       "      <td>-1.495259</td>\n",
       "      <td>1.258093</td>\n",
       "      <td>0.932538</td>\n",
       "      <td>-1.619585</td>\n",
       "      <td>2.164745</td>\n",
       "      <td>-0.693317</td>\n",
       "    </tr>\n",
       "  </tbody>\n",
       "</table>\n",
       "<p>214 rows × 9 columns</p>\n",
       "</div>"
      ],
      "text/plain": [
       "     Id number        RI        Na        Mg        Al        Si         K  \\\n",
       "0    -2.083699  0.907736  0.317061  4.089663 -0.662630 -1.138642 -1.289781   \n",
       "1    -2.039411 -0.257279  0.616577  0.635322 -0.077498  0.044314  0.274843   \n",
       "2    -1.999172 -0.731915  0.183344  0.516403  0.291075  0.400267  0.018565   \n",
       "3    -1.961699 -0.214131 -0.212585  0.866193 -0.228458 -0.115117  0.501963   \n",
       "4    -1.926292 -0.300428 -0.137547  0.684728 -0.339129  0.526911  0.453753   \n",
       "..         ...       ...       ...       ...       ...       ...       ...   \n",
       "209   1.508752 -0.688767  0.910183 -1.495259  2.417217 -0.115117 -1.187926   \n",
       "210   1.521424 -0.516172  1.790505 -1.495259  1.109283  0.498613 -1.619585   \n",
       "211   1.534079  0.821439  1.163835 -1.495259  1.159377  1.021794 -1.619585   \n",
       "212   1.546717 -0.602469  1.186681 -1.495259  1.024669  1.310019 -1.619585   \n",
       "213   1.559339 -0.429874  1.014475 -1.495259  1.258093  0.932538 -1.619585   \n",
       "\n",
       "           Ba        Fe  \n",
       "0   -0.464625 -0.693317  \n",
       "1   -0.464625 -0.693317  \n",
       "2   -0.464625 -0.693317  \n",
       "3   -0.464625 -0.693317  \n",
       "4   -0.464625 -0.693317  \n",
       "..        ...       ...  \n",
       "209  2.164639 -0.693317  \n",
       "210  2.164741 -0.693317  \n",
       "211  2.164744 -0.693317  \n",
       "212  2.164740 -0.693317  \n",
       "213  2.164745 -0.693317  \n",
       "\n",
       "[214 rows x 9 columns]"
      ]
     },
     "execution_count": 30,
     "metadata": {},
     "output_type": "execute_result"
    }
   ],
   "source": [
    "from statsmodels.stats.outliers_influence import variance_inflation_factor\n",
    "x"
   ]
  },
  {
   "cell_type": "code",
   "execution_count": 31,
   "id": "bc716b51",
   "metadata": {},
   "outputs": [
    {
     "data": {
      "text/plain": [
       "(214, 9)"
      ]
     },
     "execution_count": 31,
     "metadata": {},
     "output_type": "execute_result"
    }
   ],
   "source": [
    "x.shape"
   ]
  },
  {
   "cell_type": "code",
   "execution_count": 32,
   "id": "6ca4a9aa",
   "metadata": {},
   "outputs": [
    {
     "data": {
      "text/plain": [
       "9"
      ]
     },
     "execution_count": 32,
     "metadata": {},
     "output_type": "execute_result"
    }
   ],
   "source": [
    "x.shape[1]"
   ]
  },
  {
   "cell_type": "code",
   "execution_count": 33,
   "id": "3da67024",
   "metadata": {},
   "outputs": [
    {
     "name": "stdout",
     "output_type": "stream",
     "text": [
      "   VIF Factor   features\n",
      "0    1.825652  Id number\n",
      "1    4.721930         RI\n",
      "2    2.709727         Na\n",
      "3    2.708565         Mg\n",
      "4    3.053083         Al\n",
      "5    3.170505         Si\n",
      "6    2.595695          K\n",
      "7    1.826248         Ba\n",
      "8    1.064280         Fe\n"
     ]
    }
   ],
   "source": [
    "def vif_calc():\n",
    "    vif=pd.DataFrame()\n",
    "    vif[\"VIF Factor\"]=[variance_inflation_factor(x.values,i) for i in range(x.shape[1])]\n",
    "    vif[\"features\"]=x.columns\n",
    "    print(vif)\n",
    "    \n",
    "vif_calc()"
   ]
  },
  {
   "cell_type": "markdown",
   "id": "59e99c89",
   "metadata": {},
   "source": [
    "*Observation : As vif value < 5 so no multicollinearity present"
   ]
  },
  {
   "cell_type": "markdown",
   "id": "cd7c9548",
   "metadata": {},
   "source": [
    "# Outliers detection"
   ]
  },
  {
   "cell_type": "code",
   "execution_count": 34,
   "id": "005d414e",
   "metadata": {},
   "outputs": [],
   "source": [
    "from scipy.stats import zscore\n",
    "import numpy as np"
   ]
  },
  {
   "cell_type": "code",
   "execution_count": 35,
   "id": "fcfdcc42",
   "metadata": {},
   "outputs": [
    {
     "data": {
      "text/html": [
       "<div>\n",
       "<style scoped>\n",
       "    .dataframe tbody tr th:only-of-type {\n",
       "        vertical-align: middle;\n",
       "    }\n",
       "\n",
       "    .dataframe tbody tr th {\n",
       "        vertical-align: top;\n",
       "    }\n",
       "\n",
       "    .dataframe thead th {\n",
       "        text-align: right;\n",
       "    }\n",
       "</style>\n",
       "<table border=\"1\" class=\"dataframe\">\n",
       "  <thead>\n",
       "    <tr style=\"text-align: right;\">\n",
       "      <th></th>\n",
       "      <th>Id number</th>\n",
       "      <th>RI</th>\n",
       "      <th>Na</th>\n",
       "      <th>Mg</th>\n",
       "      <th>Al</th>\n",
       "      <th>Si</th>\n",
       "      <th>K</th>\n",
       "      <th>Ba</th>\n",
       "      <th>Fe</th>\n",
       "    </tr>\n",
       "  </thead>\n",
       "  <tbody>\n",
       "    <tr>\n",
       "      <th>0</th>\n",
       "      <td>2.083699</td>\n",
       "      <td>0.907736</td>\n",
       "      <td>0.317061</td>\n",
       "      <td>4.089663</td>\n",
       "      <td>0.662630</td>\n",
       "      <td>1.138642</td>\n",
       "      <td>1.289781</td>\n",
       "      <td>0.464625</td>\n",
       "      <td>0.693317</td>\n",
       "    </tr>\n",
       "    <tr>\n",
       "      <th>1</th>\n",
       "      <td>2.039411</td>\n",
       "      <td>0.257279</td>\n",
       "      <td>0.616577</td>\n",
       "      <td>0.635322</td>\n",
       "      <td>0.077498</td>\n",
       "      <td>0.044314</td>\n",
       "      <td>0.274843</td>\n",
       "      <td>0.464625</td>\n",
       "      <td>0.693317</td>\n",
       "    </tr>\n",
       "    <tr>\n",
       "      <th>2</th>\n",
       "      <td>1.999172</td>\n",
       "      <td>0.731915</td>\n",
       "      <td>0.183344</td>\n",
       "      <td>0.516403</td>\n",
       "      <td>0.291075</td>\n",
       "      <td>0.400267</td>\n",
       "      <td>0.018565</td>\n",
       "      <td>0.464625</td>\n",
       "      <td>0.693317</td>\n",
       "    </tr>\n",
       "    <tr>\n",
       "      <th>3</th>\n",
       "      <td>1.961699</td>\n",
       "      <td>0.214131</td>\n",
       "      <td>0.212585</td>\n",
       "      <td>0.866193</td>\n",
       "      <td>0.228458</td>\n",
       "      <td>0.115117</td>\n",
       "      <td>0.501963</td>\n",
       "      <td>0.464625</td>\n",
       "      <td>0.693317</td>\n",
       "    </tr>\n",
       "    <tr>\n",
       "      <th>4</th>\n",
       "      <td>1.926292</td>\n",
       "      <td>0.300428</td>\n",
       "      <td>0.137547</td>\n",
       "      <td>0.684728</td>\n",
       "      <td>0.339129</td>\n",
       "      <td>0.526911</td>\n",
       "      <td>0.453753</td>\n",
       "      <td>0.464625</td>\n",
       "      <td>0.693317</td>\n",
       "    </tr>\n",
       "    <tr>\n",
       "      <th>...</th>\n",
       "      <td>...</td>\n",
       "      <td>...</td>\n",
       "      <td>...</td>\n",
       "      <td>...</td>\n",
       "      <td>...</td>\n",
       "      <td>...</td>\n",
       "      <td>...</td>\n",
       "      <td>...</td>\n",
       "      <td>...</td>\n",
       "    </tr>\n",
       "    <tr>\n",
       "      <th>209</th>\n",
       "      <td>1.508752</td>\n",
       "      <td>0.688767</td>\n",
       "      <td>0.910183</td>\n",
       "      <td>1.495259</td>\n",
       "      <td>2.417217</td>\n",
       "      <td>0.115117</td>\n",
       "      <td>1.187926</td>\n",
       "      <td>2.164639</td>\n",
       "      <td>0.693317</td>\n",
       "    </tr>\n",
       "    <tr>\n",
       "      <th>210</th>\n",
       "      <td>1.521424</td>\n",
       "      <td>0.516172</td>\n",
       "      <td>1.790505</td>\n",
       "      <td>1.495259</td>\n",
       "      <td>1.109283</td>\n",
       "      <td>0.498613</td>\n",
       "      <td>1.619585</td>\n",
       "      <td>2.164741</td>\n",
       "      <td>0.693317</td>\n",
       "    </tr>\n",
       "    <tr>\n",
       "      <th>211</th>\n",
       "      <td>1.534079</td>\n",
       "      <td>0.821439</td>\n",
       "      <td>1.163835</td>\n",
       "      <td>1.495259</td>\n",
       "      <td>1.159377</td>\n",
       "      <td>1.021794</td>\n",
       "      <td>1.619585</td>\n",
       "      <td>2.164744</td>\n",
       "      <td>0.693317</td>\n",
       "    </tr>\n",
       "    <tr>\n",
       "      <th>212</th>\n",
       "      <td>1.546717</td>\n",
       "      <td>0.602469</td>\n",
       "      <td>1.186681</td>\n",
       "      <td>1.495259</td>\n",
       "      <td>1.024669</td>\n",
       "      <td>1.310019</td>\n",
       "      <td>1.619585</td>\n",
       "      <td>2.164740</td>\n",
       "      <td>0.693317</td>\n",
       "    </tr>\n",
       "    <tr>\n",
       "      <th>213</th>\n",
       "      <td>1.559339</td>\n",
       "      <td>0.429874</td>\n",
       "      <td>1.014475</td>\n",
       "      <td>1.495259</td>\n",
       "      <td>1.258093</td>\n",
       "      <td>0.932538</td>\n",
       "      <td>1.619585</td>\n",
       "      <td>2.164745</td>\n",
       "      <td>0.693317</td>\n",
       "    </tr>\n",
       "  </tbody>\n",
       "</table>\n",
       "<p>214 rows × 9 columns</p>\n",
       "</div>"
      ],
      "text/plain": [
       "     Id number        RI        Na        Mg        Al        Si         K  \\\n",
       "0     2.083699  0.907736  0.317061  4.089663  0.662630  1.138642  1.289781   \n",
       "1     2.039411  0.257279  0.616577  0.635322  0.077498  0.044314  0.274843   \n",
       "2     1.999172  0.731915  0.183344  0.516403  0.291075  0.400267  0.018565   \n",
       "3     1.961699  0.214131  0.212585  0.866193  0.228458  0.115117  0.501963   \n",
       "4     1.926292  0.300428  0.137547  0.684728  0.339129  0.526911  0.453753   \n",
       "..         ...       ...       ...       ...       ...       ...       ...   \n",
       "209   1.508752  0.688767  0.910183  1.495259  2.417217  0.115117  1.187926   \n",
       "210   1.521424  0.516172  1.790505  1.495259  1.109283  0.498613  1.619585   \n",
       "211   1.534079  0.821439  1.163835  1.495259  1.159377  1.021794  1.619585   \n",
       "212   1.546717  0.602469  1.186681  1.495259  1.024669  1.310019  1.619585   \n",
       "213   1.559339  0.429874  1.014475  1.495259  1.258093  0.932538  1.619585   \n",
       "\n",
       "           Ba        Fe  \n",
       "0    0.464625  0.693317  \n",
       "1    0.464625  0.693317  \n",
       "2    0.464625  0.693317  \n",
       "3    0.464625  0.693317  \n",
       "4    0.464625  0.693317  \n",
       "..        ...       ...  \n",
       "209  2.164639  0.693317  \n",
       "210  2.164741  0.693317  \n",
       "211  2.164744  0.693317  \n",
       "212  2.164740  0.693317  \n",
       "213  2.164745  0.693317  \n",
       "\n",
       "[214 rows x 9 columns]"
      ]
     },
     "execution_count": 35,
     "metadata": {},
     "output_type": "execute_result"
    }
   ],
   "source": [
    "z=np.abs(zscore(x))\n",
    "z"
   ]
  },
  {
   "cell_type": "code",
   "execution_count": 36,
   "id": "85d00225",
   "metadata": {},
   "outputs": [
    {
     "name": "stdout",
     "output_type": "stream",
     "text": [
      "(array([  0,  21, 106, 106, 106, 107, 111, 112, 163, 163, 166, 171, 172,\n",
      "       184, 184, 201], dtype=int64), array([3, 4, 1, 2, 5, 1, 2, 1, 4, 5, 2, 6, 6, 2, 5, 5], dtype=int64))\n"
     ]
    }
   ],
   "source": [
    "threshold=3\n",
    "print(np.where(z>3))"
   ]
  },
  {
   "cell_type": "markdown",
   "id": "c29ead2c",
   "metadata": {},
   "source": [
    "Removing outliers from x"
   ]
  },
  {
   "cell_type": "code",
   "execution_count": 37,
   "id": "27e487fb",
   "metadata": {},
   "outputs": [
    {
     "data": {
      "text/html": [
       "<div>\n",
       "<style scoped>\n",
       "    .dataframe tbody tr th:only-of-type {\n",
       "        vertical-align: middle;\n",
       "    }\n",
       "\n",
       "    .dataframe tbody tr th {\n",
       "        vertical-align: top;\n",
       "    }\n",
       "\n",
       "    .dataframe thead th {\n",
       "        text-align: right;\n",
       "    }\n",
       "</style>\n",
       "<table border=\"1\" class=\"dataframe\">\n",
       "  <thead>\n",
       "    <tr style=\"text-align: right;\">\n",
       "      <th></th>\n",
       "      <th>Id number</th>\n",
       "      <th>RI</th>\n",
       "      <th>Na</th>\n",
       "      <th>Mg</th>\n",
       "      <th>Al</th>\n",
       "      <th>Si</th>\n",
       "      <th>K</th>\n",
       "      <th>Ba</th>\n",
       "      <th>Fe</th>\n",
       "      <th>Type of glass</th>\n",
       "    </tr>\n",
       "  </thead>\n",
       "  <tbody>\n",
       "    <tr>\n",
       "      <th>1</th>\n",
       "      <td>2</td>\n",
       "      <td>1.51761</td>\n",
       "      <td>13.89</td>\n",
       "      <td>3.60</td>\n",
       "      <td>1.36</td>\n",
       "      <td>72.73</td>\n",
       "      <td>0.48</td>\n",
       "      <td>0.00</td>\n",
       "      <td>0.00</td>\n",
       "      <td>1</td>\n",
       "    </tr>\n",
       "    <tr>\n",
       "      <th>2</th>\n",
       "      <td>3</td>\n",
       "      <td>1.51618</td>\n",
       "      <td>13.53</td>\n",
       "      <td>3.55</td>\n",
       "      <td>1.54</td>\n",
       "      <td>72.99</td>\n",
       "      <td>0.39</td>\n",
       "      <td>0.00</td>\n",
       "      <td>0.00</td>\n",
       "      <td>1</td>\n",
       "    </tr>\n",
       "    <tr>\n",
       "      <th>3</th>\n",
       "      <td>4</td>\n",
       "      <td>1.51766</td>\n",
       "      <td>13.21</td>\n",
       "      <td>3.69</td>\n",
       "      <td>1.29</td>\n",
       "      <td>72.61</td>\n",
       "      <td>0.57</td>\n",
       "      <td>0.00</td>\n",
       "      <td>0.00</td>\n",
       "      <td>1</td>\n",
       "    </tr>\n",
       "    <tr>\n",
       "      <th>4</th>\n",
       "      <td>5</td>\n",
       "      <td>1.51742</td>\n",
       "      <td>13.27</td>\n",
       "      <td>3.62</td>\n",
       "      <td>1.24</td>\n",
       "      <td>73.08</td>\n",
       "      <td>0.55</td>\n",
       "      <td>0.00</td>\n",
       "      <td>0.00</td>\n",
       "      <td>1</td>\n",
       "    </tr>\n",
       "    <tr>\n",
       "      <th>5</th>\n",
       "      <td>6</td>\n",
       "      <td>1.51596</td>\n",
       "      <td>12.79</td>\n",
       "      <td>3.61</td>\n",
       "      <td>1.62</td>\n",
       "      <td>72.97</td>\n",
       "      <td>0.64</td>\n",
       "      <td>0.00</td>\n",
       "      <td>0.26</td>\n",
       "      <td>1</td>\n",
       "    </tr>\n",
       "    <tr>\n",
       "      <th>...</th>\n",
       "      <td>...</td>\n",
       "      <td>...</td>\n",
       "      <td>...</td>\n",
       "      <td>...</td>\n",
       "      <td>...</td>\n",
       "      <td>...</td>\n",
       "      <td>...</td>\n",
       "      <td>...</td>\n",
       "      <td>...</td>\n",
       "      <td>...</td>\n",
       "    </tr>\n",
       "    <tr>\n",
       "      <th>209</th>\n",
       "      <td>210</td>\n",
       "      <td>1.51623</td>\n",
       "      <td>14.14</td>\n",
       "      <td>0.00</td>\n",
       "      <td>2.88</td>\n",
       "      <td>72.61</td>\n",
       "      <td>0.08</td>\n",
       "      <td>1.06</td>\n",
       "      <td>0.00</td>\n",
       "      <td>7</td>\n",
       "    </tr>\n",
       "    <tr>\n",
       "      <th>210</th>\n",
       "      <td>211</td>\n",
       "      <td>1.51685</td>\n",
       "      <td>14.92</td>\n",
       "      <td>0.00</td>\n",
       "      <td>1.99</td>\n",
       "      <td>73.06</td>\n",
       "      <td>0.00</td>\n",
       "      <td>1.59</td>\n",
       "      <td>0.00</td>\n",
       "      <td>7</td>\n",
       "    </tr>\n",
       "    <tr>\n",
       "      <th>211</th>\n",
       "      <td>212</td>\n",
       "      <td>1.52065</td>\n",
       "      <td>14.36</td>\n",
       "      <td>0.00</td>\n",
       "      <td>2.02</td>\n",
       "      <td>73.42</td>\n",
       "      <td>0.00</td>\n",
       "      <td>1.64</td>\n",
       "      <td>0.00</td>\n",
       "      <td>7</td>\n",
       "    </tr>\n",
       "    <tr>\n",
       "      <th>212</th>\n",
       "      <td>213</td>\n",
       "      <td>1.51651</td>\n",
       "      <td>14.38</td>\n",
       "      <td>0.00</td>\n",
       "      <td>1.94</td>\n",
       "      <td>73.61</td>\n",
       "      <td>0.00</td>\n",
       "      <td>1.57</td>\n",
       "      <td>0.00</td>\n",
       "      <td>7</td>\n",
       "    </tr>\n",
       "    <tr>\n",
       "      <th>213</th>\n",
       "      <td>214</td>\n",
       "      <td>1.51711</td>\n",
       "      <td>14.23</td>\n",
       "      <td>0.00</td>\n",
       "      <td>2.08</td>\n",
       "      <td>73.36</td>\n",
       "      <td>0.00</td>\n",
       "      <td>1.67</td>\n",
       "      <td>0.00</td>\n",
       "      <td>7</td>\n",
       "    </tr>\n",
       "  </tbody>\n",
       "</table>\n",
       "<p>202 rows × 10 columns</p>\n",
       "</div>"
      ],
      "text/plain": [
       "     Id number       RI     Na    Mg    Al     Si     K    Ba    Fe  \\\n",
       "1            2  1.51761  13.89  3.60  1.36  72.73  0.48  0.00  0.00   \n",
       "2            3  1.51618  13.53  3.55  1.54  72.99  0.39  0.00  0.00   \n",
       "3            4  1.51766  13.21  3.69  1.29  72.61  0.57  0.00  0.00   \n",
       "4            5  1.51742  13.27  3.62  1.24  73.08  0.55  0.00  0.00   \n",
       "5            6  1.51596  12.79  3.61  1.62  72.97  0.64  0.00  0.26   \n",
       "..         ...      ...    ...   ...   ...    ...   ...   ...   ...   \n",
       "209        210  1.51623  14.14  0.00  2.88  72.61  0.08  1.06  0.00   \n",
       "210        211  1.51685  14.92  0.00  1.99  73.06  0.00  1.59  0.00   \n",
       "211        212  1.52065  14.36  0.00  2.02  73.42  0.00  1.64  0.00   \n",
       "212        213  1.51651  14.38  0.00  1.94  73.61  0.00  1.57  0.00   \n",
       "213        214  1.51711  14.23  0.00  2.08  73.36  0.00  1.67  0.00   \n",
       "\n",
       "     Type of glass  \n",
       "1                1  \n",
       "2                1  \n",
       "3                1  \n",
       "4                1  \n",
       "5                1  \n",
       "..             ...  \n",
       "209              7  \n",
       "210              7  \n",
       "211              7  \n",
       "212              7  \n",
       "213              7  \n",
       "\n",
       "[202 rows x 10 columns]"
      ]
     },
     "execution_count": 37,
     "metadata": {},
     "output_type": "execute_result"
    }
   ],
   "source": [
    "df1=df[(z<3).all(axis=1)]\n",
    "df1"
   ]
  },
  {
   "cell_type": "markdown",
   "id": "9ede573b",
   "metadata": {},
   "source": [
    "After outliers removal some rows are removed so check data loss :-"
   ]
  },
  {
   "cell_type": "code",
   "execution_count": 38,
   "id": "2fb2fdb0",
   "metadata": {},
   "outputs": [
    {
     "name": "stdout",
     "output_type": "stream",
     "text": [
      "5.607476635514018\n"
     ]
    }
   ],
   "source": [
    "# % Data Loss\n",
    "\n",
    "data_loss=(214-202)/214*100\n",
    "print(data_loss)"
   ]
  },
  {
   "cell_type": "markdown",
   "id": "7e9d2166",
   "metadata": {},
   "source": [
    "# Balancing Target Variable as classification"
   ]
  },
  {
   "cell_type": "markdown",
   "id": "82b54ee4",
   "metadata": {},
   "source": [
    "#Oversampling the data"
   ]
  },
  {
   "cell_type": "code",
   "execution_count": 39,
   "id": "efbbb871",
   "metadata": {},
   "outputs": [],
   "source": [
    "from imblearn.over_sampling import SMOTE\n",
    "SM=SMOTE()\n",
    "x,y=SM.fit_resample(x,y)"
   ]
  },
  {
   "cell_type": "code",
   "execution_count": 40,
   "id": "ad5d614b",
   "metadata": {},
   "outputs": [
    {
     "data": {
      "text/plain": [
       "1    76\n",
       "2    76\n",
       "3    76\n",
       "5    76\n",
       "6    76\n",
       "7    76\n",
       "Name: Type of glass, dtype: int64"
      ]
     },
     "execution_count": 40,
     "metadata": {},
     "output_type": "execute_result"
    }
   ],
   "source": [
    "y.value_counts()"
   ]
  },
  {
   "cell_type": "markdown",
   "id": "daf4a699",
   "metadata": {},
   "source": [
    "*Observation Now data is balanced. All values are equal as needed for good accuracy"
   ]
  },
  {
   "cell_type": "markdown",
   "id": "78ec056c",
   "metadata": {},
   "source": [
    "# Best Random State"
   ]
  },
  {
   "cell_type": "code",
   "execution_count": 41,
   "id": "2dcc75c8",
   "metadata": {},
   "outputs": [
    {
     "name": "stdout",
     "output_type": "stream",
     "text": [
      "testing accuracy 0.9782608695652174 random_state 1\n",
      "max_accuracy 0.9782608695652174 max_random_state 1\n",
      "testing accuracy 0.9891304347826086 random_state 2\n",
      "max_accuracy 0.9891304347826086 max_random_state 2\n",
      "testing accuracy 1.0 random_state 3\n",
      "max_accuracy 1.0 max_random_state 3\n",
      "testing accuracy 1.0 random_state 4\n",
      "testing accuracy 1.0 random_state 5\n",
      "testing accuracy 0.9891304347826086 random_state 6\n",
      "testing accuracy 1.0 random_state 7\n",
      "testing accuracy 0.9891304347826086 random_state 8\n",
      "testing accuracy 1.0 random_state 9\n",
      "testing accuracy 1.0 random_state 10\n",
      "testing accuracy 1.0 random_state 11\n",
      "testing accuracy 1.0 random_state 12\n",
      "testing accuracy 0.9891304347826086 random_state 13\n",
      "testing accuracy 1.0 random_state 14\n",
      "testing accuracy 1.0 random_state 15\n",
      "testing accuracy 1.0 random_state 16\n",
      "testing accuracy 1.0 random_state 17\n",
      "testing accuracy 0.9782608695652174 random_state 18\n",
      "testing accuracy 0.967391304347826 random_state 19\n",
      "testing accuracy 1.0 random_state 20\n",
      "testing accuracy 1.0 random_state 21\n",
      "testing accuracy 1.0 random_state 22\n",
      "testing accuracy 0.9891304347826086 random_state 23\n",
      "testing accuracy 1.0 random_state 24\n",
      "testing accuracy 1.0 random_state 25\n",
      "testing accuracy 0.9891304347826086 random_state 26\n",
      "testing accuracy 1.0 random_state 27\n",
      "testing accuracy 1.0 random_state 28\n",
      "testing accuracy 1.0 random_state 29\n",
      "testing accuracy 1.0 random_state 30\n",
      "testing accuracy 0.9891304347826086 random_state 31\n",
      "testing accuracy 1.0 random_state 32\n",
      "testing accuracy 0.9782608695652174 random_state 33\n",
      "testing accuracy 0.9891304347826086 random_state 34\n",
      "testing accuracy 0.9891304347826086 random_state 35\n",
      "testing accuracy 1.0 random_state 36\n",
      "testing accuracy 1.0 random_state 37\n",
      "testing accuracy 0.9782608695652174 random_state 38\n",
      "testing accuracy 1.0 random_state 39\n",
      "testing accuracy 1.0 random_state 40\n",
      "testing accuracy 1.0 random_state 41\n",
      "testing accuracy 1.0 random_state 42\n",
      "testing accuracy 1.0 random_state 43\n",
      "testing accuracy 0.9891304347826086 random_state 44\n",
      "testing accuracy 0.9891304347826086 random_state 45\n",
      "testing accuracy 1.0 random_state 46\n",
      "testing accuracy 0.9891304347826086 random_state 47\n",
      "testing accuracy 1.0 random_state 48\n",
      "testing accuracy 0.9891304347826086 random_state 49\n",
      "testing accuracy 0.9891304347826086 random_state 50\n",
      "testing accuracy 0.9891304347826086 random_state 51\n",
      "testing accuracy 0.9891304347826086 random_state 52\n",
      "testing accuracy 1.0 random_state 53\n",
      "testing accuracy 1.0 random_state 54\n",
      "testing accuracy 0.9782608695652174 random_state 55\n",
      "testing accuracy 0.9891304347826086 random_state 56\n",
      "testing accuracy 0.9891304347826086 random_state 57\n",
      "testing accuracy 1.0 random_state 58\n",
      "testing accuracy 1.0 random_state 59\n",
      "testing accuracy 0.9891304347826086 random_state 60\n",
      "testing accuracy 0.9891304347826086 random_state 61\n",
      "testing accuracy 1.0 random_state 62\n",
      "testing accuracy 0.9891304347826086 random_state 63\n",
      "testing accuracy 0.9891304347826086 random_state 64\n",
      "testing accuracy 1.0 random_state 65\n",
      "testing accuracy 0.9782608695652174 random_state 66\n",
      "testing accuracy 0.9891304347826086 random_state 67\n",
      "testing accuracy 0.9891304347826086 random_state 68\n",
      "testing accuracy 1.0 random_state 69\n",
      "testing accuracy 0.9891304347826086 random_state 70\n",
      "testing accuracy 1.0 random_state 71\n",
      "testing accuracy 0.9891304347826086 random_state 72\n",
      "testing accuracy 1.0 random_state 73\n",
      "testing accuracy 1.0 random_state 74\n",
      "testing accuracy 0.9891304347826086 random_state 75\n",
      "testing accuracy 0.9891304347826086 random_state 76\n",
      "testing accuracy 1.0 random_state 77\n",
      "testing accuracy 0.9891304347826086 random_state 78\n",
      "testing accuracy 0.9891304347826086 random_state 79\n",
      "testing accuracy 1.0 random_state 80\n",
      "testing accuracy 1.0 random_state 81\n",
      "testing accuracy 0.9891304347826086 random_state 82\n",
      "testing accuracy 1.0 random_state 83\n",
      "testing accuracy 0.9891304347826086 random_state 84\n",
      "testing accuracy 1.0 random_state 85\n",
      "testing accuracy 0.9891304347826086 random_state 86\n",
      "testing accuracy 1.0 random_state 87\n",
      "testing accuracy 0.9782608695652174 random_state 88\n",
      "testing accuracy 1.0 random_state 89\n",
      "testing accuracy 0.9891304347826086 random_state 90\n",
      "testing accuracy 1.0 random_state 91\n",
      "testing accuracy 1.0 random_state 92\n",
      "testing accuracy 1.0 random_state 93\n",
      "testing accuracy 0.9891304347826086 random_state 94\n",
      "testing accuracy 0.9891304347826086 random_state 95\n",
      "testing accuracy 1.0 random_state 96\n",
      "testing accuracy 1.0 random_state 97\n",
      "testing accuracy 0.9891304347826086 random_state 98\n",
      "testing accuracy 1.0 random_state 99\n",
      "testing accuracy 1.0 random_state 100\n",
      "testing accuracy 0.9891304347826086 random_state 101\n",
      "testing accuracy 1.0 random_state 102\n",
      "testing accuracy 1.0 random_state 103\n",
      "testing accuracy 1.0 random_state 104\n",
      "testing accuracy 1.0 random_state 105\n",
      "testing accuracy 1.0 random_state 106\n",
      "testing accuracy 0.9782608695652174 random_state 107\n",
      "testing accuracy 1.0 random_state 108\n",
      "testing accuracy 0.967391304347826 random_state 109\n",
      "testing accuracy 1.0 random_state 110\n",
      "testing accuracy 1.0 random_state 111\n",
      "testing accuracy 1.0 random_state 112\n",
      "testing accuracy 1.0 random_state 113\n",
      "testing accuracy 1.0 random_state 114\n",
      "testing accuracy 1.0 random_state 115\n",
      "testing accuracy 0.9891304347826086 random_state 116\n",
      "testing accuracy 1.0 random_state 117\n",
      "testing accuracy 0.9891304347826086 random_state 118\n",
      "testing accuracy 1.0 random_state 119\n",
      "testing accuracy 1.0 random_state 120\n",
      "testing accuracy 1.0 random_state 121\n",
      "testing accuracy 1.0 random_state 122\n",
      "testing accuracy 0.9891304347826086 random_state 123\n",
      "testing accuracy 1.0 random_state 124\n",
      "testing accuracy 0.9891304347826086 random_state 125\n",
      "testing accuracy 0.9891304347826086 random_state 126\n",
      "testing accuracy 0.9891304347826086 random_state 127\n",
      "testing accuracy 0.9782608695652174 random_state 128\n",
      "testing accuracy 0.9891304347826086 random_state 129\n",
      "testing accuracy 0.9891304347826086 random_state 130\n",
      "testing accuracy 1.0 random_state 131\n",
      "testing accuracy 1.0 random_state 132\n",
      "testing accuracy 1.0 random_state 133\n",
      "testing accuracy 1.0 random_state 134\n",
      "testing accuracy 1.0 random_state 135\n",
      "testing accuracy 1.0 random_state 136\n",
      "testing accuracy 1.0 random_state 137\n",
      "testing accuracy 0.9891304347826086 random_state 138\n",
      "testing accuracy 1.0 random_state 139\n",
      "testing accuracy 1.0 random_state 140\n",
      "testing accuracy 1.0 random_state 141\n",
      "testing accuracy 1.0 random_state 142\n",
      "testing accuracy 0.9891304347826086 random_state 143\n",
      "testing accuracy 0.9891304347826086 random_state 144\n",
      "testing accuracy 0.9782608695652174 random_state 145\n",
      "testing accuracy 0.967391304347826 random_state 146\n",
      "testing accuracy 0.9782608695652174 random_state 147\n",
      "testing accuracy 0.9891304347826086 random_state 148\n",
      "testing accuracy 1.0 random_state 149\n",
      "testing accuracy 1.0 random_state 150\n",
      "testing accuracy 0.9891304347826086 random_state 151\n",
      "testing accuracy 0.9891304347826086 random_state 152\n",
      "testing accuracy 0.9891304347826086 random_state 153\n",
      "testing accuracy 0.9782608695652174 random_state 154\n",
      "testing accuracy 0.9891304347826086 random_state 155\n",
      "testing accuracy 1.0 random_state 156\n",
      "testing accuracy 0.9891304347826086 random_state 157\n",
      "testing accuracy 1.0 random_state 158\n",
      "testing accuracy 0.9891304347826086 random_state 159\n",
      "testing accuracy 1.0 random_state 160\n",
      "testing accuracy 1.0 random_state 161\n",
      "testing accuracy 1.0 random_state 162\n",
      "testing accuracy 0.9782608695652174 random_state 163\n",
      "testing accuracy 0.9891304347826086 random_state 164\n",
      "testing accuracy 0.9891304347826086 random_state 165\n",
      "testing accuracy 0.9782608695652174 random_state 166\n",
      "testing accuracy 1.0 random_state 167\n",
      "testing accuracy 1.0 random_state 168\n",
      "testing accuracy 1.0 random_state 169\n",
      "testing accuracy 0.9891304347826086 random_state 170\n",
      "testing accuracy 1.0 random_state 171\n",
      "testing accuracy 0.9891304347826086 random_state 172\n",
      "testing accuracy 0.9782608695652174 random_state 173\n",
      "testing accuracy 1.0 random_state 174\n",
      "testing accuracy 0.9891304347826086 random_state 175\n",
      "testing accuracy 1.0 random_state 176\n",
      "testing accuracy 0.9891304347826086 random_state 177\n",
      "testing accuracy 0.9891304347826086 random_state 178\n",
      "testing accuracy 1.0 random_state 179\n",
      "testing accuracy 1.0 random_state 180\n",
      "testing accuracy 1.0 random_state 181\n",
      "testing accuracy 0.9782608695652174 random_state 182\n",
      "testing accuracy 1.0 random_state 183\n",
      "testing accuracy 1.0 random_state 184\n",
      "testing accuracy 1.0 random_state 185\n",
      "testing accuracy 1.0 random_state 186\n",
      "testing accuracy 1.0 random_state 187\n",
      "testing accuracy 1.0 random_state 188\n",
      "testing accuracy 0.9782608695652174 random_state 189\n",
      "testing accuracy 1.0 random_state 190\n",
      "testing accuracy 0.9891304347826086 random_state 191\n",
      "testing accuracy 0.9891304347826086 random_state 192\n",
      "testing accuracy 1.0 random_state 193\n",
      "testing accuracy 1.0 random_state 194\n",
      "testing accuracy 0.9891304347826086 random_state 195\n",
      "testing accuracy 0.9891304347826086 random_state 196\n",
      "testing accuracy 1.0 random_state 197\n",
      "testing accuracy 1.0 random_state 198\n",
      "testing accuracy 1.0 random_state 199\n"
     ]
    }
   ],
   "source": [
    "from sklearn.model_selection import train_test_split\n",
    "from sklearn.tree import DecisionTreeClassifier\n",
    "from sklearn.metrics import accuracy_score\n",
    "maxAccu=0                            #maximum accuracy\n",
    "maxRS=0                             #best random state for which max accuracy is achieved\n",
    "\n",
    "for i in range(1,200):\n",
    "    x_train,x_test,y_train,y_test=train_test_split(x,y,test_size=.20,random_state=i)\n",
    "    dt=DecisionTreeClassifier()\n",
    "    dt.fit(x_train,y_train)                                #fitting the data will train your model\n",
    "    predrf=dt.predict(x_test)                              #Predicted Target Variable\n",
    "    acc=accuracy_score(y_test,predrf)\n",
    "    print('testing accuracy',acc,'random_state',i)\n",
    "    \n",
    "    if acc>maxAccu:\n",
    "        maxAccu=acc\n",
    "        maxRS=i\n",
    "        print('max_accuracy',maxAccu,'max_random_state',i)"
   ]
  },
  {
   "cell_type": "code",
   "execution_count": 42,
   "id": "2eaa4d9b",
   "metadata": {},
   "outputs": [
    {
     "name": "stdout",
     "output_type": "stream",
     "text": [
      "Best accuracy is 1.0 on Random_state 3\n"
     ]
    }
   ],
   "source": [
    "print(\"Best accuracy is\",maxAccu,\"on Random_state\",maxRS)"
   ]
  },
  {
   "cell_type": "markdown",
   "id": "7b645562",
   "metadata": {},
   "source": [
    "Best Random_State found is 3.We will create our train_test_split using this random_state"
   ]
  },
  {
   "cell_type": "markdown",
   "id": "e6835977",
   "metadata": {},
   "source": [
    "# Train_Test Split"
   ]
  },
  {
   "cell_type": "code",
   "execution_count": 43,
   "id": "5a7d5879",
   "metadata": {},
   "outputs": [],
   "source": [
    "x_train,x_test,y_train,y_test=train_test_split(x,y,test_size=.20,random_state=3)"
   ]
  },
  {
   "cell_type": "code",
   "execution_count": 44,
   "id": "17e22249",
   "metadata": {},
   "outputs": [
    {
     "data": {
      "text/plain": [
       "(364, 9)"
      ]
     },
     "execution_count": 44,
     "metadata": {},
     "output_type": "execute_result"
    }
   ],
   "source": [
    "x_train.shape"
   ]
  },
  {
   "cell_type": "code",
   "execution_count": 45,
   "id": "b4e947e2",
   "metadata": {},
   "outputs": [
    {
     "data": {
      "text/plain": [
       "(92, 9)"
      ]
     },
     "execution_count": 45,
     "metadata": {},
     "output_type": "execute_result"
    }
   ],
   "source": [
    "x_test.shape"
   ]
  },
  {
   "cell_type": "code",
   "execution_count": 46,
   "id": "613feef5",
   "metadata": {},
   "outputs": [
    {
     "data": {
      "text/plain": [
       "(364,)"
      ]
     },
     "execution_count": 46,
     "metadata": {},
     "output_type": "execute_result"
    }
   ],
   "source": [
    "y_train.shape"
   ]
  },
  {
   "cell_type": "code",
   "execution_count": 47,
   "id": "d832a50c",
   "metadata": {},
   "outputs": [
    {
     "data": {
      "text/plain": [
       "(92,)"
      ]
     },
     "execution_count": 47,
     "metadata": {},
     "output_type": "execute_result"
    }
   ],
   "source": [
    "y_test.shape"
   ]
  },
  {
   "cell_type": "markdown",
   "id": "ab47b906",
   "metadata": {},
   "source": [
    "Metrics Imported"
   ]
  },
  {
   "cell_type": "code",
   "execution_count": 48,
   "id": "b911b511",
   "metadata": {},
   "outputs": [],
   "source": [
    "from sklearn.metrics import classification_report,confusion_matrix,accuracy_score  "
   ]
  },
  {
   "cell_type": "markdown",
   "id": "72112a75",
   "metadata": {},
   "source": [
    "# Logistic Regression"
   ]
  },
  {
   "cell_type": "code",
   "execution_count": 49,
   "id": "e710b0f8",
   "metadata": {},
   "outputs": [
    {
     "name": "stdout",
     "output_type": "stream",
     "text": [
      "Accuracy 90.21739130434783\n",
      "[[15  0  0  0  0  0]\n",
      " [ 3 12  3  2  0  0]\n",
      " [ 0  0 18  0  0  0]\n",
      " [ 0  0  0 15  0  0]\n",
      " [ 0  0  0  0 15  0]\n",
      " [ 0  0  0  1  0  8]]\n",
      "              precision    recall  f1-score   support\n",
      "\n",
      "           1       0.83      1.00      0.91        15\n",
      "           2       1.00      0.60      0.75        20\n",
      "           3       0.86      1.00      0.92        18\n",
      "           5       0.83      1.00      0.91        15\n",
      "           6       1.00      1.00      1.00        15\n",
      "           7       1.00      0.89      0.94         9\n",
      "\n",
      "    accuracy                           0.90        92\n",
      "   macro avg       0.92      0.91      0.91        92\n",
      "weighted avg       0.92      0.90      0.90        92\n",
      "\n"
     ]
    }
   ],
   "source": [
    "from sklearn.linear_model import LogisticRegression\n",
    "LR=LogisticRegression()\n",
    "\n",
    "LR.fit(x_train,y_train)\n",
    "predlr=LR.predict(x_test)\n",
    "print(\"Accuracy\",accuracy_score(y_test,predlr)*100)                               #Testing Accuracy\n",
    "print(confusion_matrix(y_test,predlr))\n",
    "print(classification_report(y_test,predlr))"
   ]
  },
  {
   "cell_type": "markdown",
   "id": "fcdfaf91",
   "metadata": {},
   "source": [
    "Cross Validation Score of Logistics Regression"
   ]
  },
  {
   "cell_type": "code",
   "execution_count": 50,
   "id": "284748b2",
   "metadata": {},
   "outputs": [
    {
     "name": "stdout",
     "output_type": "stream",
     "text": [
      "Cross Validation Score of Logistic Regression model:- 0.9406971677559913\n",
      "diff between accuracy score and cross validation score is - -0.038523254712513055\n"
     ]
    }
   ],
   "source": [
    "from sklearn.model_selection import cross_val_score\n",
    "cr_1=cross_val_score(LR,x,y,cv=9)\n",
    "print(\"Cross Validation Score of Logistic Regression model:-\",cr_1.mean())\n",
    "print(\"diff between accuracy score and cross validation score is -\",accuracy_score(y_test,predlr)-cr_1.mean())"
   ]
  },
  {
   "cell_type": "markdown",
   "id": "7e00e5f5",
   "metadata": {},
   "source": [
    "# Decision Tree Classifier"
   ]
  },
  {
   "cell_type": "code",
   "execution_count": 51,
   "id": "95684dc3",
   "metadata": {},
   "outputs": [
    {
     "name": "stdout",
     "output_type": "stream",
     "text": [
      "Training Accuracy 100.0\n",
      "Testing Accuracy 100.0\n",
      "[[15  0  0  0  0  0]\n",
      " [ 0 20  0  0  0  0]\n",
      " [ 0  0 18  0  0  0]\n",
      " [ 0  0  0 15  0  0]\n",
      " [ 0  0  0  0 15  0]\n",
      " [ 0  0  0  0  0  9]]\n",
      "              precision    recall  f1-score   support\n",
      "\n",
      "           1       1.00      1.00      1.00        15\n",
      "           2       1.00      1.00      1.00        20\n",
      "           3       1.00      1.00      1.00        18\n",
      "           5       1.00      1.00      1.00        15\n",
      "           6       1.00      1.00      1.00        15\n",
      "           7       1.00      1.00      1.00         9\n",
      "\n",
      "    accuracy                           1.00        92\n",
      "   macro avg       1.00      1.00      1.00        92\n",
      "weighted avg       1.00      1.00      1.00        92\n",
      "\n"
     ]
    }
   ],
   "source": [
    "from sklearn.tree import DecisionTreeClassifier\n",
    "dt=DecisionTreeClassifier()\n",
    "\n",
    "dt.fit(x_train,y_train)\n",
    "pred_train_dtc=dt.predict(x_train)\n",
    "preddt=dt.predict(x_test)\n",
    "\n",
    "print(\"Training Accuracy\",accuracy_score(y_train,pred_train_dtc)*100) \n",
    "print(\"Testing Accuracy\",accuracy_score(y_test,preddt)*100)                               #Testing Accuracy\n",
    "print(confusion_matrix(y_test,preddt))\n",
    "print(classification_report(y_test,preddt))"
   ]
  },
  {
   "cell_type": "markdown",
   "id": "7669d13a",
   "metadata": {},
   "source": [
    "Cross Validation Score of Decision Tree Classifier"
   ]
  },
  {
   "cell_type": "code",
   "execution_count": 52,
   "id": "79f32f75",
   "metadata": {},
   "outputs": [
    {
     "name": "stdout",
     "output_type": "stream",
     "text": [
      "Cross Validation Score of Decision Tree model:- 0.9779956427015252\n",
      "diff between accuracy score and cross validation score is - 0.02200435729847483\n"
     ]
    }
   ],
   "source": [
    "from sklearn.model_selection import cross_val_score\n",
    "cr_2=cross_val_score(dt,x,y,cv=9)\n",
    "print(\"Cross Validation Score of Decision Tree model:-\",cr_2.mean())\n",
    "print(\"diff between accuracy score and cross validation score is -\",accuracy_score(y_test,preddt)-cr_2.mean())"
   ]
  },
  {
   "cell_type": "markdown",
   "id": "4471542e",
   "metadata": {},
   "source": [
    "# Random Forest Classifier"
   ]
  },
  {
   "cell_type": "code",
   "execution_count": 53,
   "id": "2985ffaf",
   "metadata": {},
   "outputs": [
    {
     "name": "stdout",
     "output_type": "stream",
     "text": [
      "Training Accuracy 100.0\n",
      "Testing Accuracy 100.0\n",
      "[[15  0  0  0  0  0]\n",
      " [ 0 20  0  0  0  0]\n",
      " [ 0  0 18  0  0  0]\n",
      " [ 0  0  0 15  0  0]\n",
      " [ 0  0  0  0 15  0]\n",
      " [ 0  0  0  0  0  9]]\n",
      "              precision    recall  f1-score   support\n",
      "\n",
      "           1       1.00      1.00      1.00        15\n",
      "           2       1.00      1.00      1.00        20\n",
      "           3       1.00      1.00      1.00        18\n",
      "           5       1.00      1.00      1.00        15\n",
      "           6       1.00      1.00      1.00        15\n",
      "           7       1.00      1.00      1.00         9\n",
      "\n",
      "    accuracy                           1.00        92\n",
      "   macro avg       1.00      1.00      1.00        92\n",
      "weighted avg       1.00      1.00      1.00        92\n",
      "\n"
     ]
    }
   ],
   "source": [
    "from sklearn.ensemble import RandomForestClassifier\n",
    "rf=RandomForestClassifier()\n",
    "\n",
    "rf.fit(x_train,y_train)\n",
    "pred_train_rf=rf.predict(x_train)\n",
    "predrf=rf.predict(x_test)\n",
    "\n",
    "print(\"Training Accuracy\",accuracy_score(y_train,pred_train_rf)*100) \n",
    "print(\"Testing Accuracy\",accuracy_score(y_test,predrf)*100)                               #Testing Accuracy\n",
    "print(confusion_matrix(y_test,predrf))\n",
    "print(classification_report(y_test,predrf))"
   ]
  },
  {
   "cell_type": "markdown",
   "id": "de1afeda",
   "metadata": {},
   "source": [
    "Cross Validation Score of Random Forest Classifier"
   ]
  },
  {
   "cell_type": "code",
   "execution_count": 54,
   "id": "09141b83",
   "metadata": {},
   "outputs": [
    {
     "name": "stdout",
     "output_type": "stream",
     "text": [
      "Cross Validation Score of Random Forest Classifier model:- 0.986797385620915\n",
      "diff between accuracy score and cross validation score is - 0.013202614379084987\n"
     ]
    }
   ],
   "source": [
    "from sklearn.model_selection import cross_val_score\n",
    "cr_3=cross_val_score(rf,x,y,cv=9)\n",
    "print(\"Cross Validation Score of Random Forest Classifier model:-\",cr_3.mean())\n",
    "print(\"diff between accuracy score and cross validation score is -\",accuracy_score(y_test,predrf)-cr_3.mean())"
   ]
  },
  {
   "cell_type": "markdown",
   "id": "9bbd415c",
   "metadata": {},
   "source": [
    "# Support Vector Classifier"
   ]
  },
  {
   "cell_type": "code",
   "execution_count": 55,
   "id": "68027ca4",
   "metadata": {},
   "outputs": [
    {
     "name": "stdout",
     "output_type": "stream",
     "text": [
      "Training Accuracy 99.45054945054946\n",
      "Testing Accuracy 92.3913043478261\n",
      "[[14  1  0  0  0  0]\n",
      " [ 0 16  2  2  0  0]\n",
      " [ 0  0 18  0  0  0]\n",
      " [ 0  0  0 15  0  0]\n",
      " [ 0  0  0  0 15  0]\n",
      " [ 0  1  0  1  0  7]]\n",
      "              precision    recall  f1-score   support\n",
      "\n",
      "           1       1.00      0.93      0.97        15\n",
      "           2       0.89      0.80      0.84        20\n",
      "           3       0.90      1.00      0.95        18\n",
      "           5       0.83      1.00      0.91        15\n",
      "           6       1.00      1.00      1.00        15\n",
      "           7       1.00      0.78      0.88         9\n",
      "\n",
      "    accuracy                           0.92        92\n",
      "   macro avg       0.94      0.92      0.92        92\n",
      "weighted avg       0.93      0.92      0.92        92\n",
      "\n"
     ]
    }
   ],
   "source": [
    "from sklearn.svm import SVC\n",
    "svc=SVC()\n",
    "\n",
    "svc.fit(x_train,y_train)\n",
    "pred_train_svc=svc.predict(x_train)\n",
    "predsvc=svc.predict(x_test)\n",
    "\n",
    "print(\"Training Accuracy\",accuracy_score(y_train,pred_train_svc)*100) \n",
    "print(\"Testing Accuracy\",accuracy_score(y_test,predsvc)*100)                               #Testing Accuracy\n",
    "print(confusion_matrix(y_test,predsvc))\n",
    "print(classification_report(y_test,predsvc))"
   ]
  },
  {
   "cell_type": "markdown",
   "id": "8599e6e2",
   "metadata": {},
   "source": [
    "Cross Validation Score of Support Vector Classifier"
   ]
  },
  {
   "cell_type": "code",
   "execution_count": 56,
   "id": "ffd282ba",
   "metadata": {},
   "outputs": [
    {
     "name": "stdout",
     "output_type": "stream",
     "text": [
      "Cross Validation Score of Support Vector Classifier model:- 0.986797385620915\n",
      "diff between accuracy score and cross validation score is - -0.06288434214265415\n"
     ]
    }
   ],
   "source": [
    "from sklearn.model_selection import cross_val_score\n",
    "cr_4=cross_val_score(rf,x,y,cv=9)\n",
    "print(\"Cross Validation Score of Support Vector Classifier model:-\",cr_4.mean())\n",
    "print(\"diff between accuracy score and cross validation score is -\",accuracy_score(y_test,predsvc)-cr_4.mean())"
   ]
  },
  {
   "cell_type": "markdown",
   "id": "0d575da5",
   "metadata": {},
   "source": [
    "# *Observation : Since our Random Forest Classifier is perfoming best among all as best accuracy and least difference. So we will continue with RandomForestClassifier .No need of futher check with different classifier"
   ]
  },
  {
   "cell_type": "markdown",
   "id": "f9b8ee38",
   "metadata": {},
   "source": [
    "# Hyper Parameter Tuning"
   ]
  },
  {
   "cell_type": "code",
   "execution_count": null,
   "id": "08d58547",
   "metadata": {},
   "outputs": [],
   "source": [
    "from sklearn.model_selection import GridSearchCV\n",
    "rf=RandomForestClassifier()\n",
    "parameters={'max_features':['auto','sqrt','log2'],\n",
    "           'max_depth':[4,5,6,7,8],\n",
    "           'criterion':['gini','entropy'],\n",
    "           'n_estimators':[100,200,300,400,500]}"
   ]
  },
  {
   "cell_type": "code",
   "execution_count": null,
   "id": "b5e153f1",
   "metadata": {},
   "outputs": [],
   "source": [
    "GCV=GridSearchCV(estimator=rf,param_grid=parameters)\n",
    "\n",
    "GCV.fit(x_train,y_train)                                   #Fitting data in model\n",
    "print(GCV.best_params_)                                #printing best parameter found by GridSearchCV"
   ]
  },
  {
   "cell_type": "markdown",
   "id": "e3f8db78",
   "metadata": {},
   "source": [
    "**Since on running GCV.best_params_ , no output is showing so we taken best parameters by choice and finalize the model"
   ]
  },
  {
   "cell_type": "code",
   "execution_count": 57,
   "id": "e502adad",
   "metadata": {},
   "outputs": [
    {
     "name": "stdout",
     "output_type": "stream",
     "text": [
      "100.0\n"
     ]
    }
   ],
   "source": [
    "Final_model=RandomForestClassifier(max_features='log2',criterion='entropy',n_estimators=400,max_depth=8)\n",
    "Final_model.fit(x_train,y_train)\n",
    "pred=Final_model.predict(x_test)\n",
    "acc=accuracy_score(y_test,pred)\n",
    "print(acc*100)"
   ]
  },
  {
   "cell_type": "markdown",
   "id": "2476ae6b",
   "metadata": {},
   "source": [
    "# ROC AUC Plot"
   ]
  },
  {
   "cell_type": "code",
   "execution_count": null,
   "id": "3674751a",
   "metadata": {},
   "outputs": [],
   "source": [
    "from sklearn.metrics import plot_roc_curve\n",
    "plot_roc_curve(GCV.best_params_,x_test,y_test)\n",
    "plt.title(\"ROC AUC Plot\")\n",
    "plt.show()"
   ]
  },
  {
   "cell_type": "markdown",
   "id": "ae94d274",
   "metadata": {},
   "source": [
    "*ROC AUC PLot code is right but as GCV is not running in hyper tuning so producing error"
   ]
  },
  {
   "cell_type": "markdown",
   "id": "9574b041",
   "metadata": {},
   "source": [
    "But our Final Model Accuracy is 100% which is best so we save the model"
   ]
  },
  {
   "cell_type": "code",
   "execution_count": 59,
   "id": "18252273",
   "metadata": {},
   "outputs": [],
   "source": [
    "import pickle\n",
    "filename='glass.pkl'\n",
    "pickle.dump(Final_model,open(filename,'wb'))"
   ]
  },
  {
   "cell_type": "markdown",
   "id": "0e6c144f",
   "metadata": {},
   "source": [
    "Prediction"
   ]
  },
  {
   "cell_type": "code",
   "execution_count": 60,
   "id": "7d29fb9f",
   "metadata": {},
   "outputs": [
    {
     "data": {
      "text/html": [
       "<div>\n",
       "<style scoped>\n",
       "    .dataframe tbody tr th:only-of-type {\n",
       "        vertical-align: middle;\n",
       "    }\n",
       "\n",
       "    .dataframe tbody tr th {\n",
       "        vertical-align: top;\n",
       "    }\n",
       "\n",
       "    .dataframe thead th {\n",
       "        text-align: right;\n",
       "    }\n",
       "</style>\n",
       "<table border=\"1\" class=\"dataframe\">\n",
       "  <thead>\n",
       "    <tr style=\"text-align: right;\">\n",
       "      <th></th>\n",
       "      <th>0</th>\n",
       "      <th>1</th>\n",
       "      <th>2</th>\n",
       "      <th>3</th>\n",
       "      <th>4</th>\n",
       "      <th>5</th>\n",
       "      <th>6</th>\n",
       "      <th>7</th>\n",
       "      <th>8</th>\n",
       "      <th>9</th>\n",
       "      <th>...</th>\n",
       "      <th>82</th>\n",
       "      <th>83</th>\n",
       "      <th>84</th>\n",
       "      <th>85</th>\n",
       "      <th>86</th>\n",
       "      <th>87</th>\n",
       "      <th>88</th>\n",
       "      <th>89</th>\n",
       "      <th>90</th>\n",
       "      <th>91</th>\n",
       "    </tr>\n",
       "  </thead>\n",
       "  <tbody>\n",
       "    <tr>\n",
       "      <th>Predicted</th>\n",
       "      <td>3</td>\n",
       "      <td>3</td>\n",
       "      <td>6</td>\n",
       "      <td>6</td>\n",
       "      <td>3</td>\n",
       "      <td>3</td>\n",
       "      <td>1</td>\n",
       "      <td>7</td>\n",
       "      <td>3</td>\n",
       "      <td>5</td>\n",
       "      <td>...</td>\n",
       "      <td>1</td>\n",
       "      <td>5</td>\n",
       "      <td>6</td>\n",
       "      <td>2</td>\n",
       "      <td>2</td>\n",
       "      <td>5</td>\n",
       "      <td>6</td>\n",
       "      <td>1</td>\n",
       "      <td>7</td>\n",
       "      <td>6</td>\n",
       "    </tr>\n",
       "    <tr>\n",
       "      <th>Original</th>\n",
       "      <td>3</td>\n",
       "      <td>3</td>\n",
       "      <td>6</td>\n",
       "      <td>6</td>\n",
       "      <td>3</td>\n",
       "      <td>3</td>\n",
       "      <td>1</td>\n",
       "      <td>7</td>\n",
       "      <td>3</td>\n",
       "      <td>5</td>\n",
       "      <td>...</td>\n",
       "      <td>1</td>\n",
       "      <td>5</td>\n",
       "      <td>6</td>\n",
       "      <td>2</td>\n",
       "      <td>2</td>\n",
       "      <td>5</td>\n",
       "      <td>6</td>\n",
       "      <td>1</td>\n",
       "      <td>7</td>\n",
       "      <td>6</td>\n",
       "    </tr>\n",
       "  </tbody>\n",
       "</table>\n",
       "<p>2 rows × 92 columns</p>\n",
       "</div>"
      ],
      "text/plain": [
       "           0   1   2   3   4   5   6   7   8   9   ...  82  83  84  85  86  \\\n",
       "Predicted   3   3   6   6   3   3   1   7   3   5  ...   1   5   6   2   2   \n",
       "Original    3   3   6   6   3   3   1   7   3   5  ...   1   5   6   2   2   \n",
       "\n",
       "           87  88  89  90  91  \n",
       "Predicted   5   6   1   7   6  \n",
       "Original    5   6   1   7   6  \n",
       "\n",
       "[2 rows x 92 columns]"
      ]
     },
     "execution_count": 60,
     "metadata": {},
     "output_type": "execute_result"
    }
   ],
   "source": [
    "conclusion=pd.DataFrame([Final_model.predict(x_test)[:],predrf[:]],index=[\"Predicted\",\"Original\"])\n",
    "conclusion"
   ]
  },
  {
   "cell_type": "markdown",
   "id": "2e201067",
   "metadata": {},
   "source": [
    "Model Performs Very Well"
   ]
  },
  {
   "cell_type": "code",
   "execution_count": null,
   "id": "f7680496",
   "metadata": {},
   "outputs": [],
   "source": []
  }
 ],
 "metadata": {
  "kernelspec": {
   "display_name": "Python 3 (ipykernel)",
   "language": "python",
   "name": "python3"
  },
  "language_info": {
   "codemirror_mode": {
    "name": "ipython",
    "version": 3
   },
   "file_extension": ".py",
   "mimetype": "text/x-python",
   "name": "python",
   "nbconvert_exporter": "python",
   "pygments_lexer": "ipython3",
   "version": "3.9.12"
  }
 },
 "nbformat": 4,
 "nbformat_minor": 5
}
